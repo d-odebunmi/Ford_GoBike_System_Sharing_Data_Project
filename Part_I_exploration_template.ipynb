{
 "cells": [
  {
   "cell_type": "markdown",
   "metadata": {},
   "source": [
    "# Part I - (Analysis of Ford GoBike System Data)\n",
    "## by (Deborah Odebunmi)\n",
    "\n",
    "## Introduction\n",
    "> This data set on Ford GoBike includes information about individual rides made in a bike-sharing system covering the greater San Francisco Bay area. The dataset includes information on 183,412 trips and features such as the user type, gender, station details and trip duration amongst others. \n",
    "\n",
    " \n",
    "\n",
    "\n",
    "\n",
    "## Preliminary Wrangling\n"
   ]
  },
  {
   "cell_type": "code",
   "execution_count": 89,
   "metadata": {},
   "outputs": [],
   "source": [
    "# import all packages and set plots to be embedded inline\n",
    "import numpy as np\n",
    "import pandas as pd\n",
    "import matplotlib.pyplot as plt\n",
    "import seaborn as sb\n",
    "\n",
    "%matplotlib inline"
   ]
  },
  {
   "cell_type": "code",
   "execution_count": 90,
   "metadata": {},
   "outputs": [],
   "source": [
    "##to load my datatset\n",
    "ford_bike = pd.read_csv('201902-fordgobike-tripdata.csv')"
   ]
  },
  {
   "cell_type": "code",
   "execution_count": 91,
   "metadata": {},
   "outputs": [
    {
     "data": {
      "text/html": [
       "<div>\n",
       "<style scoped>\n",
       "    .dataframe tbody tr th:only-of-type {\n",
       "        vertical-align: middle;\n",
       "    }\n",
       "\n",
       "    .dataframe tbody tr th {\n",
       "        vertical-align: top;\n",
       "    }\n",
       "\n",
       "    .dataframe thead th {\n",
       "        text-align: right;\n",
       "    }\n",
       "</style>\n",
       "<table border=\"1\" class=\"dataframe\">\n",
       "  <thead>\n",
       "    <tr style=\"text-align: right;\">\n",
       "      <th></th>\n",
       "      <th>duration_sec</th>\n",
       "      <th>start_time</th>\n",
       "      <th>end_time</th>\n",
       "      <th>start_station_id</th>\n",
       "      <th>start_station_name</th>\n",
       "      <th>start_station_latitude</th>\n",
       "      <th>start_station_longitude</th>\n",
       "      <th>end_station_id</th>\n",
       "      <th>end_station_name</th>\n",
       "      <th>end_station_latitude</th>\n",
       "      <th>end_station_longitude</th>\n",
       "      <th>bike_id</th>\n",
       "      <th>user_type</th>\n",
       "      <th>member_birth_year</th>\n",
       "      <th>member_gender</th>\n",
       "      <th>bike_share_for_all_trip</th>\n",
       "    </tr>\n",
       "  </thead>\n",
       "  <tbody>\n",
       "    <tr>\n",
       "      <th>0</th>\n",
       "      <td>52185</td>\n",
       "      <td>2019-02-28 17:32:10.1450</td>\n",
       "      <td>2019-03-01 08:01:55.9750</td>\n",
       "      <td>21.0</td>\n",
       "      <td>Montgomery St BART Station (Market St at 2nd St)</td>\n",
       "      <td>37.789625</td>\n",
       "      <td>-122.400811</td>\n",
       "      <td>13.0</td>\n",
       "      <td>Commercial St at Montgomery St</td>\n",
       "      <td>37.794231</td>\n",
       "      <td>-122.402923</td>\n",
       "      <td>4902</td>\n",
       "      <td>Customer</td>\n",
       "      <td>1984.0</td>\n",
       "      <td>Male</td>\n",
       "      <td>No</td>\n",
       "    </tr>\n",
       "    <tr>\n",
       "      <th>1</th>\n",
       "      <td>42521</td>\n",
       "      <td>2019-02-28 18:53:21.7890</td>\n",
       "      <td>2019-03-01 06:42:03.0560</td>\n",
       "      <td>23.0</td>\n",
       "      <td>The Embarcadero at Steuart St</td>\n",
       "      <td>37.791464</td>\n",
       "      <td>-122.391034</td>\n",
       "      <td>81.0</td>\n",
       "      <td>Berry St at 4th St</td>\n",
       "      <td>37.775880</td>\n",
       "      <td>-122.393170</td>\n",
       "      <td>2535</td>\n",
       "      <td>Customer</td>\n",
       "      <td>NaN</td>\n",
       "      <td>NaN</td>\n",
       "      <td>No</td>\n",
       "    </tr>\n",
       "  </tbody>\n",
       "</table>\n",
       "</div>"
      ],
      "text/plain": [
       "   duration_sec                start_time                  end_time  \\\n",
       "0         52185  2019-02-28 17:32:10.1450  2019-03-01 08:01:55.9750   \n",
       "1         42521  2019-02-28 18:53:21.7890  2019-03-01 06:42:03.0560   \n",
       "\n",
       "   start_station_id                                start_station_name  \\\n",
       "0              21.0  Montgomery St BART Station (Market St at 2nd St)   \n",
       "1              23.0                     The Embarcadero at Steuart St   \n",
       "\n",
       "   start_station_latitude  start_station_longitude  end_station_id  \\\n",
       "0               37.789625              -122.400811            13.0   \n",
       "1               37.791464              -122.391034            81.0   \n",
       "\n",
       "                 end_station_name  end_station_latitude  \\\n",
       "0  Commercial St at Montgomery St             37.794231   \n",
       "1              Berry St at 4th St             37.775880   \n",
       "\n",
       "   end_station_longitude  bike_id user_type  member_birth_year member_gender  \\\n",
       "0            -122.402923     4902  Customer             1984.0          Male   \n",
       "1            -122.393170     2535  Customer                NaN           NaN   \n",
       "\n",
       "  bike_share_for_all_trip  \n",
       "0                      No  \n",
       "1                      No  "
      ]
     },
     "execution_count": 91,
     "metadata": {},
     "output_type": "execute_result"
    }
   ],
   "source": [
    "## a quick glance at the dataset\n",
    "ford_bike.head(2)"
   ]
  },
  {
   "cell_type": "code",
   "execution_count": 92,
   "metadata": {},
   "outputs": [
    {
     "data": {
      "text/plain": [
       "(183412, 16)"
      ]
     },
     "execution_count": 92,
     "metadata": {},
     "output_type": "execute_result"
    }
   ],
   "source": [
    "ford_bike.shape"
   ]
  },
  {
   "cell_type": "code",
   "execution_count": 93,
   "metadata": {
    "scrolled": true
   },
   "outputs": [
    {
     "data": {
      "text/html": [
       "<div>\n",
       "<style scoped>\n",
       "    .dataframe tbody tr th:only-of-type {\n",
       "        vertical-align: middle;\n",
       "    }\n",
       "\n",
       "    .dataframe tbody tr th {\n",
       "        vertical-align: top;\n",
       "    }\n",
       "\n",
       "    .dataframe thead th {\n",
       "        text-align: right;\n",
       "    }\n",
       "</style>\n",
       "<table border=\"1\" class=\"dataframe\">\n",
       "  <thead>\n",
       "    <tr style=\"text-align: right;\">\n",
       "      <th></th>\n",
       "      <th>duration_sec</th>\n",
       "      <th>start_time</th>\n",
       "      <th>end_time</th>\n",
       "      <th>start_station_id</th>\n",
       "      <th>start_station_name</th>\n",
       "      <th>start_station_latitude</th>\n",
       "      <th>start_station_longitude</th>\n",
       "      <th>end_station_id</th>\n",
       "      <th>end_station_name</th>\n",
       "      <th>end_station_latitude</th>\n",
       "      <th>end_station_longitude</th>\n",
       "      <th>bike_id</th>\n",
       "      <th>user_type</th>\n",
       "      <th>member_birth_year</th>\n",
       "      <th>member_gender</th>\n",
       "      <th>bike_share_for_all_trip</th>\n",
       "    </tr>\n",
       "  </thead>\n",
       "  <tbody>\n",
       "    <tr>\n",
       "      <th>137749</th>\n",
       "      <td>654</td>\n",
       "      <td>2019-02-08 08:20:27.6980</td>\n",
       "      <td>2019-02-08 08:31:22.2090</td>\n",
       "      <td>70.0</td>\n",
       "      <td>Central Ave at Fell St</td>\n",
       "      <td>37.773311</td>\n",
       "      <td>-122.444293</td>\n",
       "      <td>383.0</td>\n",
       "      <td>Golden Gate Ave at Franklin St</td>\n",
       "      <td>37.780787</td>\n",
       "      <td>-122.421934</td>\n",
       "      <td>2947</td>\n",
       "      <td>Customer</td>\n",
       "      <td>1989.0</td>\n",
       "      <td>Male</td>\n",
       "      <td>No</td>\n",
       "    </tr>\n",
       "    <tr>\n",
       "      <th>156468</th>\n",
       "      <td>346</td>\n",
       "      <td>2019-02-06 07:55:23.3090</td>\n",
       "      <td>2019-02-06 08:01:10.1120</td>\n",
       "      <td>5.0</td>\n",
       "      <td>Powell St BART Station (Market St at 5th St)</td>\n",
       "      <td>37.783899</td>\n",
       "      <td>-122.408445</td>\n",
       "      <td>64.0</td>\n",
       "      <td>5th St at Brannan St</td>\n",
       "      <td>37.776754</td>\n",
       "      <td>-122.399018</td>\n",
       "      <td>3035</td>\n",
       "      <td>Subscriber</td>\n",
       "      <td>1964.0</td>\n",
       "      <td>Male</td>\n",
       "      <td>No</td>\n",
       "    </tr>\n",
       "  </tbody>\n",
       "</table>\n",
       "</div>"
      ],
      "text/plain": [
       "        duration_sec                start_time                  end_time  \\\n",
       "137749           654  2019-02-08 08:20:27.6980  2019-02-08 08:31:22.2090   \n",
       "156468           346  2019-02-06 07:55:23.3090  2019-02-06 08:01:10.1120   \n",
       "\n",
       "        start_station_id                            start_station_name  \\\n",
       "137749              70.0                        Central Ave at Fell St   \n",
       "156468               5.0  Powell St BART Station (Market St at 5th St)   \n",
       "\n",
       "        start_station_latitude  start_station_longitude  end_station_id  \\\n",
       "137749               37.773311              -122.444293           383.0   \n",
       "156468               37.783899              -122.408445            64.0   \n",
       "\n",
       "                      end_station_name  end_station_latitude  \\\n",
       "137749  Golden Gate Ave at Franklin St             37.780787   \n",
       "156468            5th St at Brannan St             37.776754   \n",
       "\n",
       "        end_station_longitude  bike_id   user_type  member_birth_year  \\\n",
       "137749            -122.421934     2947    Customer             1989.0   \n",
       "156468            -122.399018     3035  Subscriber             1964.0   \n",
       "\n",
       "       member_gender bike_share_for_all_trip  \n",
       "137749          Male                      No  \n",
       "156468          Male                      No  "
      ]
     },
     "execution_count": 93,
     "metadata": {},
     "output_type": "execute_result"
    }
   ],
   "source": [
    "ford_bike.sample(2)"
   ]
  },
  {
   "cell_type": "code",
   "execution_count": 94,
   "metadata": {
    "scrolled": true
   },
   "outputs": [
    {
     "data": {
      "text/html": [
       "<div>\n",
       "<style scoped>\n",
       "    .dataframe tbody tr th:only-of-type {\n",
       "        vertical-align: middle;\n",
       "    }\n",
       "\n",
       "    .dataframe tbody tr th {\n",
       "        vertical-align: top;\n",
       "    }\n",
       "\n",
       "    .dataframe thead th {\n",
       "        text-align: right;\n",
       "    }\n",
       "</style>\n",
       "<table border=\"1\" class=\"dataframe\">\n",
       "  <thead>\n",
       "    <tr style=\"text-align: right;\">\n",
       "      <th></th>\n",
       "      <th>duration_sec</th>\n",
       "      <th>start_station_id</th>\n",
       "      <th>start_station_latitude</th>\n",
       "      <th>start_station_longitude</th>\n",
       "      <th>end_station_id</th>\n",
       "      <th>end_station_latitude</th>\n",
       "      <th>end_station_longitude</th>\n",
       "      <th>bike_id</th>\n",
       "      <th>member_birth_year</th>\n",
       "    </tr>\n",
       "  </thead>\n",
       "  <tbody>\n",
       "    <tr>\n",
       "      <th>count</th>\n",
       "      <td>183412.000000</td>\n",
       "      <td>183215.000000</td>\n",
       "      <td>183412.000000</td>\n",
       "      <td>183412.000000</td>\n",
       "      <td>183215.000000</td>\n",
       "      <td>183412.000000</td>\n",
       "      <td>183412.000000</td>\n",
       "      <td>183412.000000</td>\n",
       "      <td>175147.000000</td>\n",
       "    </tr>\n",
       "    <tr>\n",
       "      <th>mean</th>\n",
       "      <td>726.078435</td>\n",
       "      <td>138.590427</td>\n",
       "      <td>37.771223</td>\n",
       "      <td>-122.352664</td>\n",
       "      <td>136.249123</td>\n",
       "      <td>37.771427</td>\n",
       "      <td>-122.352250</td>\n",
       "      <td>4472.906375</td>\n",
       "      <td>1984.806437</td>\n",
       "    </tr>\n",
       "    <tr>\n",
       "      <th>std</th>\n",
       "      <td>1794.389780</td>\n",
       "      <td>111.778864</td>\n",
       "      <td>0.099581</td>\n",
       "      <td>0.117097</td>\n",
       "      <td>111.515131</td>\n",
       "      <td>0.099490</td>\n",
       "      <td>0.116673</td>\n",
       "      <td>1664.383394</td>\n",
       "      <td>10.116689</td>\n",
       "    </tr>\n",
       "    <tr>\n",
       "      <th>min</th>\n",
       "      <td>61.000000</td>\n",
       "      <td>3.000000</td>\n",
       "      <td>37.317298</td>\n",
       "      <td>-122.453704</td>\n",
       "      <td>3.000000</td>\n",
       "      <td>37.317298</td>\n",
       "      <td>-122.453704</td>\n",
       "      <td>11.000000</td>\n",
       "      <td>1878.000000</td>\n",
       "    </tr>\n",
       "    <tr>\n",
       "      <th>25%</th>\n",
       "      <td>325.000000</td>\n",
       "      <td>47.000000</td>\n",
       "      <td>37.770083</td>\n",
       "      <td>-122.412408</td>\n",
       "      <td>44.000000</td>\n",
       "      <td>37.770407</td>\n",
       "      <td>-122.411726</td>\n",
       "      <td>3777.000000</td>\n",
       "      <td>1980.000000</td>\n",
       "    </tr>\n",
       "    <tr>\n",
       "      <th>50%</th>\n",
       "      <td>514.000000</td>\n",
       "      <td>104.000000</td>\n",
       "      <td>37.780760</td>\n",
       "      <td>-122.398285</td>\n",
       "      <td>100.000000</td>\n",
       "      <td>37.781010</td>\n",
       "      <td>-122.398279</td>\n",
       "      <td>4958.000000</td>\n",
       "      <td>1987.000000</td>\n",
       "    </tr>\n",
       "    <tr>\n",
       "      <th>75%</th>\n",
       "      <td>796.000000</td>\n",
       "      <td>239.000000</td>\n",
       "      <td>37.797280</td>\n",
       "      <td>-122.286533</td>\n",
       "      <td>235.000000</td>\n",
       "      <td>37.797320</td>\n",
       "      <td>-122.288045</td>\n",
       "      <td>5502.000000</td>\n",
       "      <td>1992.000000</td>\n",
       "    </tr>\n",
       "    <tr>\n",
       "      <th>max</th>\n",
       "      <td>85444.000000</td>\n",
       "      <td>398.000000</td>\n",
       "      <td>37.880222</td>\n",
       "      <td>-121.874119</td>\n",
       "      <td>398.000000</td>\n",
       "      <td>37.880222</td>\n",
       "      <td>-121.874119</td>\n",
       "      <td>6645.000000</td>\n",
       "      <td>2001.000000</td>\n",
       "    </tr>\n",
       "  </tbody>\n",
       "</table>\n",
       "</div>"
      ],
      "text/plain": [
       "        duration_sec  start_station_id  start_station_latitude  \\\n",
       "count  183412.000000     183215.000000           183412.000000   \n",
       "mean      726.078435        138.590427               37.771223   \n",
       "std      1794.389780        111.778864                0.099581   \n",
       "min        61.000000          3.000000               37.317298   \n",
       "25%       325.000000         47.000000               37.770083   \n",
       "50%       514.000000        104.000000               37.780760   \n",
       "75%       796.000000        239.000000               37.797280   \n",
       "max     85444.000000        398.000000               37.880222   \n",
       "\n",
       "       start_station_longitude  end_station_id  end_station_latitude  \\\n",
       "count            183412.000000   183215.000000         183412.000000   \n",
       "mean               -122.352664      136.249123             37.771427   \n",
       "std                   0.117097      111.515131              0.099490   \n",
       "min                -122.453704        3.000000             37.317298   \n",
       "25%                -122.412408       44.000000             37.770407   \n",
       "50%                -122.398285      100.000000             37.781010   \n",
       "75%                -122.286533      235.000000             37.797320   \n",
       "max                -121.874119      398.000000             37.880222   \n",
       "\n",
       "       end_station_longitude        bike_id  member_birth_year  \n",
       "count          183412.000000  183412.000000      175147.000000  \n",
       "mean             -122.352250    4472.906375        1984.806437  \n",
       "std                 0.116673    1664.383394          10.116689  \n",
       "min              -122.453704      11.000000        1878.000000  \n",
       "25%              -122.411726    3777.000000        1980.000000  \n",
       "50%              -122.398279    4958.000000        1987.000000  \n",
       "75%              -122.288045    5502.000000        1992.000000  \n",
       "max              -121.874119    6645.000000        2001.000000  "
      ]
     },
     "execution_count": 94,
     "metadata": {},
     "output_type": "execute_result"
    }
   ],
   "source": [
    "ford_bike.describe()"
   ]
  },
  {
   "cell_type": "code",
   "execution_count": 95,
   "metadata": {},
   "outputs": [
    {
     "name": "stdout",
     "output_type": "stream",
     "text": [
      "<class 'pandas.core.frame.DataFrame'>\n",
      "RangeIndex: 183412 entries, 0 to 183411\n",
      "Data columns (total 16 columns):\n",
      "duration_sec               183412 non-null int64\n",
      "start_time                 183412 non-null object\n",
      "end_time                   183412 non-null object\n",
      "start_station_id           183215 non-null float64\n",
      "start_station_name         183215 non-null object\n",
      "start_station_latitude     183412 non-null float64\n",
      "start_station_longitude    183412 non-null float64\n",
      "end_station_id             183215 non-null float64\n",
      "end_station_name           183215 non-null object\n",
      "end_station_latitude       183412 non-null float64\n",
      "end_station_longitude      183412 non-null float64\n",
      "bike_id                    183412 non-null int64\n",
      "user_type                  183412 non-null object\n",
      "member_birth_year          175147 non-null float64\n",
      "member_gender              175147 non-null object\n",
      "bike_share_for_all_trip    183412 non-null object\n",
      "dtypes: float64(7), int64(2), object(7)\n",
      "memory usage: 22.4+ MB\n"
     ]
    }
   ],
   "source": [
    "ford_bike.info()"
   ]
  },
  {
   "cell_type": "markdown",
   "metadata": {},
   "source": [
    "### What is the structure of your dataset?\n",
    "\n",
    "> My dataset comprises 183,412 entries and 16 variables as the columns.\n",
    "A look at the data types of some of the columns also revealed that there are changes to be made. Columns relating to time are currently objects. The data type will be converted.\n",
    "\n",
    "### What is/are the main feature(s) of interest in your dataset?\n",
    "\n",
    "> I am interested in determining if a particular gender uses this service more than the other gender. It will also be interesting to know the busiest stations, what age group tend to use this service more, and if there are more customers than subscribers or vice-versa.\n",
    "\n",
    "### What features in the dataset do you think will help support your investigation into your feature(s) of interest?\n",
    "\n",
    "> The member birth year column plays a role in determining the age of the rider so this will come in helpful. The user_type, gender and station names will also support my investigation"
   ]
  },
  {
   "cell_type": "markdown",
   "metadata": {},
   "source": [
    "## Data Cleaning Process\n"
   ]
  },
  {
   "cell_type": "code",
   "execution_count": 96,
   "metadata": {},
   "outputs": [],
   "source": [
    "##convert the start and end time columns to date types\n",
    "ford_bike['start_time'] = ford_bike['start_time'].astype('datetime64[ns]')\n",
    "ford_bike['end_time'] = ford_bike['end_time'].astype('datetime64[ns]')"
   ]
  },
  {
   "cell_type": "code",
   "execution_count": 97,
   "metadata": {
    "scrolled": true
   },
   "outputs": [
    {
     "name": "stdout",
     "output_type": "stream",
     "text": [
      "<class 'pandas.core.frame.DataFrame'>\n",
      "RangeIndex: 183412 entries, 0 to 183411\n",
      "Data columns (total 16 columns):\n",
      "duration_sec               183412 non-null int64\n",
      "start_time                 183412 non-null datetime64[ns]\n",
      "end_time                   183412 non-null datetime64[ns]\n",
      "start_station_id           183215 non-null float64\n",
      "start_station_name         183215 non-null object\n",
      "start_station_latitude     183412 non-null float64\n",
      "start_station_longitude    183412 non-null float64\n",
      "end_station_id             183215 non-null float64\n",
      "end_station_name           183215 non-null object\n",
      "end_station_latitude       183412 non-null float64\n",
      "end_station_longitude      183412 non-null float64\n",
      "bike_id                    183412 non-null int64\n",
      "user_type                  183412 non-null object\n",
      "member_birth_year          175147 non-null float64\n",
      "member_gender              175147 non-null object\n",
      "bike_share_for_all_trip    183412 non-null object\n",
      "dtypes: datetime64[ns](2), float64(7), int64(2), object(5)\n",
      "memory usage: 22.4+ MB\n"
     ]
    }
   ],
   "source": [
    "##to confirm that the datatypes of the start and end times have been chnaged\n",
    "ford_bike.info()"
   ]
  },
  {
   "cell_type": "markdown",
   "metadata": {},
   "source": [
    "The above shows that there are some missing values in the dataset and this will be treated below."
   ]
  },
  {
   "cell_type": "code",
   "execution_count": 98,
   "metadata": {},
   "outputs": [
    {
     "data": {
      "text/plain": [
       "duration_sec                  0\n",
       "start_time                    0\n",
       "end_time                      0\n",
       "start_station_id            197\n",
       "start_station_name          197\n",
       "start_station_latitude        0\n",
       "start_station_longitude       0\n",
       "end_station_id              197\n",
       "end_station_name            197\n",
       "end_station_latitude          0\n",
       "end_station_longitude         0\n",
       "bike_id                       0\n",
       "user_type                     0\n",
       "member_birth_year          8265\n",
       "member_gender              8265\n",
       "bike_share_for_all_trip       0\n",
       "dtype: int64"
      ]
     },
     "execution_count": 98,
     "metadata": {},
     "output_type": "execute_result"
    }
   ],
   "source": [
    "##this helps us know how many missing values for each column in the df\n",
    "\n",
    "ford_bike.isnull().sum()"
   ]
  },
  {
   "cell_type": "markdown",
   "metadata": {},
   "source": [
    "There are 197 missing observations for station details and 8265 for gender and birth year details. The figures are less than 5% of the dataset so I do not think removing them will have so much impact on the analysis. They will be deleted in the next cell."
   ]
  },
  {
   "cell_type": "code",
   "execution_count": 99,
   "metadata": {},
   "outputs": [],
   "source": [
    "ford_bike.dropna(axis = 0 , inplace = True)"
   ]
  },
  {
   "cell_type": "code",
   "execution_count": 100,
   "metadata": {},
   "outputs": [
    {
     "data": {
      "text/plain": [
       "duration_sec               0\n",
       "start_time                 0\n",
       "end_time                   0\n",
       "start_station_id           0\n",
       "start_station_name         0\n",
       "start_station_latitude     0\n",
       "start_station_longitude    0\n",
       "end_station_id             0\n",
       "end_station_name           0\n",
       "end_station_latitude       0\n",
       "end_station_longitude      0\n",
       "bike_id                    0\n",
       "user_type                  0\n",
       "member_birth_year          0\n",
       "member_gender              0\n",
       "bike_share_for_all_trip    0\n",
       "dtype: int64"
      ]
     },
     "execution_count": 100,
     "metadata": {},
     "output_type": "execute_result"
    }
   ],
   "source": [
    "#to confirm we do not have any null values\n",
    "\n",
    "ford_bike.isnull().sum()"
   ]
  },
  {
   "cell_type": "markdown",
   "metadata": {},
   "source": [
    "Now that the null values have been removed, I will proceed to changing the datatypes and adding new columns"
   ]
  },
  {
   "cell_type": "code",
   "execution_count": 101,
   "metadata": {},
   "outputs": [],
   "source": [
    "##change the data types of user_type, member_gender and bike_share_for_all_trip to category\n",
    "\n",
    "ford_bike['member_gender'] = ford_bike['member_gender'].astype('category')\n",
    "ford_bike['user_type'] = ford_bike['user_type'].astype('category')\n",
    "ford_bike['bike_share_for_all_trip'] = ford_bike['bike_share_for_all_trip'].astype('category')"
   ]
  },
  {
   "cell_type": "code",
   "execution_count": 102,
   "metadata": {},
   "outputs": [],
   "source": [
    "##I will also change the birth year from float to integer. Birth years cannot have decimals.\n",
    "ford_bike['member_birth_year'] = ford_bike['member_birth_year'].astype('int')\n"
   ]
  },
  {
   "cell_type": "code",
   "execution_count": 103,
   "metadata": {},
   "outputs": [
    {
     "name": "stdout",
     "output_type": "stream",
     "text": [
      "category\n",
      "category\n",
      "category\n"
     ]
    },
    {
     "data": {
      "text/plain": [
       "dtype('int64')"
      ]
     },
     "execution_count": 103,
     "metadata": {},
     "output_type": "execute_result"
    }
   ],
   "source": [
    "##to confirm that the data types have been changed\n",
    "\n",
    "print(ford_bike['member_gender'].dtype)\n",
    "print(ford_bike['user_type'].dtype)\n",
    "print(ford_bike['bike_share_for_all_trip'].dtype)\n",
    "ford_bike.member_birth_year.dtype\n"
   ]
  },
  {
   "cell_type": "code",
   "execution_count": null,
   "metadata": {},
   "outputs": [],
   "source": []
  },
  {
   "cell_type": "markdown",
   "metadata": {},
   "source": [
    "In this next step, I included two new columns to specify the exact weekday and month name that the start times fall in."
   ]
  },
  {
   "cell_type": "code",
   "execution_count": 104,
   "metadata": {
    "scrolled": false
   },
   "outputs": [
    {
     "data": {
      "text/html": [
       "<div>\n",
       "<style scoped>\n",
       "    .dataframe tbody tr th:only-of-type {\n",
       "        vertical-align: middle;\n",
       "    }\n",
       "\n",
       "    .dataframe tbody tr th {\n",
       "        vertical-align: top;\n",
       "    }\n",
       "\n",
       "    .dataframe thead th {\n",
       "        text-align: right;\n",
       "    }\n",
       "</style>\n",
       "<table border=\"1\" class=\"dataframe\">\n",
       "  <thead>\n",
       "    <tr style=\"text-align: right;\">\n",
       "      <th></th>\n",
       "      <th>duration_sec</th>\n",
       "      <th>start_time</th>\n",
       "      <th>end_time</th>\n",
       "      <th>start_station_id</th>\n",
       "      <th>start_station_name</th>\n",
       "      <th>start_station_latitude</th>\n",
       "      <th>start_station_longitude</th>\n",
       "      <th>end_station_id</th>\n",
       "      <th>end_station_name</th>\n",
       "      <th>end_station_latitude</th>\n",
       "      <th>end_station_longitude</th>\n",
       "      <th>bike_id</th>\n",
       "      <th>user_type</th>\n",
       "      <th>member_birth_year</th>\n",
       "      <th>member_gender</th>\n",
       "      <th>bike_share_for_all_trip</th>\n",
       "      <th>start_day</th>\n",
       "      <th>start_month</th>\n",
       "      <th>start_hour</th>\n",
       "    </tr>\n",
       "  </thead>\n",
       "  <tbody>\n",
       "    <tr>\n",
       "      <th>0</th>\n",
       "      <td>52185</td>\n",
       "      <td>2019-02-28 17:32:10.145</td>\n",
       "      <td>2019-03-01 08:01:55.975</td>\n",
       "      <td>21.0</td>\n",
       "      <td>Montgomery St BART Station (Market St at 2nd St)</td>\n",
       "      <td>37.789625</td>\n",
       "      <td>-122.400811</td>\n",
       "      <td>13.0</td>\n",
       "      <td>Commercial St at Montgomery St</td>\n",
       "      <td>37.794231</td>\n",
       "      <td>-122.402923</td>\n",
       "      <td>4902</td>\n",
       "      <td>Customer</td>\n",
       "      <td>1984</td>\n",
       "      <td>Male</td>\n",
       "      <td>No</td>\n",
       "      <td>Thursday</td>\n",
       "      <td>February</td>\n",
       "      <td>17</td>\n",
       "    </tr>\n",
       "    <tr>\n",
       "      <th>2</th>\n",
       "      <td>61854</td>\n",
       "      <td>2019-02-28 12:13:13.218</td>\n",
       "      <td>2019-03-01 05:24:08.146</td>\n",
       "      <td>86.0</td>\n",
       "      <td>Market St at Dolores St</td>\n",
       "      <td>37.769305</td>\n",
       "      <td>-122.426826</td>\n",
       "      <td>3.0</td>\n",
       "      <td>Powell St BART Station (Market St at 4th St)</td>\n",
       "      <td>37.786375</td>\n",
       "      <td>-122.404904</td>\n",
       "      <td>5905</td>\n",
       "      <td>Customer</td>\n",
       "      <td>1972</td>\n",
       "      <td>Male</td>\n",
       "      <td>No</td>\n",
       "      <td>Thursday</td>\n",
       "      <td>February</td>\n",
       "      <td>12</td>\n",
       "    </tr>\n",
       "  </tbody>\n",
       "</table>\n",
       "</div>"
      ],
      "text/plain": [
       "   duration_sec              start_time                end_time  \\\n",
       "0         52185 2019-02-28 17:32:10.145 2019-03-01 08:01:55.975   \n",
       "2         61854 2019-02-28 12:13:13.218 2019-03-01 05:24:08.146   \n",
       "\n",
       "   start_station_id                                start_station_name  \\\n",
       "0              21.0  Montgomery St BART Station (Market St at 2nd St)   \n",
       "2              86.0                           Market St at Dolores St   \n",
       "\n",
       "   start_station_latitude  start_station_longitude  end_station_id  \\\n",
       "0               37.789625              -122.400811            13.0   \n",
       "2               37.769305              -122.426826             3.0   \n",
       "\n",
       "                               end_station_name  end_station_latitude  \\\n",
       "0                Commercial St at Montgomery St             37.794231   \n",
       "2  Powell St BART Station (Market St at 4th St)             37.786375   \n",
       "\n",
       "   end_station_longitude  bike_id user_type  member_birth_year member_gender  \\\n",
       "0            -122.402923     4902  Customer               1984          Male   \n",
       "2            -122.404904     5905  Customer               1972          Male   \n",
       "\n",
       "  bike_share_for_all_trip start_day start_month start_hour  \n",
       "0                      No  Thursday    February         17  \n",
       "2                      No  Thursday    February         12  "
      ]
     },
     "execution_count": 104,
     "metadata": {},
     "output_type": "execute_result"
    }
   ],
   "source": [
    "## I will also like to include columns that specify the exact weekday, month name and start hour that the start times fall in.\n",
    "\n",
    "ford_bike[\"start_day\"] = ford_bike['start_time'].dt.day_name()\n",
    "ford_bike[\"start_month\"] = ford_bike['start_time'].dt.month_name()\n",
    "ford_bike['start_hour'] = ford_bike.start_time.dt.strftime('%H')\n",
    "\n",
    "#to view the data and and new added columns\n",
    "ford_bike.head(2)"
   ]
  },
  {
   "cell_type": "markdown",
   "metadata": {},
   "source": [
    "I will also group the member birth year column into categories, based on generations they fall in. A function was created for this and then applied to the member_birth_year_column. A new column was created with the output of this function.\n",
    "\n",
    "It should be noted that although the minimum birth year in the datatset is 1878, it is quite unlikely that someone of that age will ride a bike so this will be excluded from the function and from the analysis too. There is also just one person that has this birth year. There are also records of members with birth years of 1900 and the likes. Highly unlikely that people this age(90 years and upwards) will ride bikes. I will also be removing them from the dataset."
   ]
  },
  {
   "cell_type": "code",
   "execution_count": 105,
   "metadata": {},
   "outputs": [
    {
     "data": {
      "text/plain": [
       "[1878,\n",
       " 1900,\n",
       " 1901,\n",
       " 1902,\n",
       " 1910,\n",
       " 1920,\n",
       " 1927,\n",
       " 1928,\n",
       " 1930,\n",
       " 1931,\n",
       " 1933,\n",
       " 1934,\n",
       " 1938,\n",
       " 1939,\n",
       " 1941,\n",
       " 1942,\n",
       " 1943,\n",
       " 1944,\n",
       " 1945,\n",
       " 1946,\n",
       " 1947,\n",
       " 1948,\n",
       " 1949,\n",
       " 1950,\n",
       " 1951,\n",
       " 1952,\n",
       " 1953,\n",
       " 1954,\n",
       " 1955,\n",
       " 1956,\n",
       " 1957,\n",
       " 1958,\n",
       " 1959,\n",
       " 1960,\n",
       " 1961,\n",
       " 1962,\n",
       " 1963,\n",
       " 1964,\n",
       " 1965,\n",
       " 1966,\n",
       " 1967,\n",
       " 1968,\n",
       " 1969,\n",
       " 1970,\n",
       " 1971,\n",
       " 1972,\n",
       " 1973,\n",
       " 1974,\n",
       " 1975,\n",
       " 1976,\n",
       " 1977,\n",
       " 1978,\n",
       " 1979,\n",
       " 1980,\n",
       " 1981,\n",
       " 1982,\n",
       " 1983,\n",
       " 1984,\n",
       " 1985,\n",
       " 1986,\n",
       " 1987,\n",
       " 1988,\n",
       " 1989,\n",
       " 1990,\n",
       " 1991,\n",
       " 1992,\n",
       " 1993,\n",
       " 1994,\n",
       " 1995,\n",
       " 1996,\n",
       " 1997,\n",
       " 1998,\n",
       " 1999,\n",
       " 2000,\n",
       " 2001]"
      ]
     },
     "execution_count": 105,
     "metadata": {},
     "output_type": "execute_result"
    }
   ],
   "source": [
    "sorted(list(ford_bike.member_birth_year.unique()))"
   ]
  },
  {
   "cell_type": "code",
   "execution_count": 106,
   "metadata": {},
   "outputs": [
    {
     "data": {
      "text/html": [
       "<div>\n",
       "<style scoped>\n",
       "    .dataframe tbody tr th:only-of-type {\n",
       "        vertical-align: middle;\n",
       "    }\n",
       "\n",
       "    .dataframe tbody tr th {\n",
       "        vertical-align: top;\n",
       "    }\n",
       "\n",
       "    .dataframe thead th {\n",
       "        text-align: right;\n",
       "    }\n",
       "</style>\n",
       "<table border=\"1\" class=\"dataframe\">\n",
       "  <thead>\n",
       "    <tr style=\"text-align: right;\">\n",
       "      <th></th>\n",
       "      <th>duration_sec</th>\n",
       "      <th>start_station_id</th>\n",
       "      <th>start_station_latitude</th>\n",
       "      <th>start_station_longitude</th>\n",
       "      <th>end_station_id</th>\n",
       "      <th>end_station_latitude</th>\n",
       "      <th>end_station_longitude</th>\n",
       "      <th>bike_id</th>\n",
       "      <th>member_birth_year</th>\n",
       "    </tr>\n",
       "  </thead>\n",
       "  <tbody>\n",
       "    <tr>\n",
       "      <th>count</th>\n",
       "      <td>174875.000000</td>\n",
       "      <td>174875.000000</td>\n",
       "      <td>174875.000000</td>\n",
       "      <td>174875.000000</td>\n",
       "      <td>174875.000000</td>\n",
       "      <td>174875.000000</td>\n",
       "      <td>174875.000000</td>\n",
       "      <td>174875.000000</td>\n",
       "      <td>174875.000000</td>\n",
       "    </tr>\n",
       "    <tr>\n",
       "      <th>mean</th>\n",
       "      <td>704.028009</td>\n",
       "      <td>138.981141</td>\n",
       "      <td>37.771206</td>\n",
       "      <td>-122.351758</td>\n",
       "      <td>136.604655</td>\n",
       "      <td>37.771401</td>\n",
       "      <td>-122.351334</td>\n",
       "      <td>4482.518273</td>\n",
       "      <td>1984.839726</td>\n",
       "    </tr>\n",
       "    <tr>\n",
       "      <th>std</th>\n",
       "      <td>1642.537925</td>\n",
       "      <td>111.637185</td>\n",
       "      <td>0.100409</td>\n",
       "      <td>0.117748</td>\n",
       "      <td>111.333687</td>\n",
       "      <td>0.100314</td>\n",
       "      <td>0.117311</td>\n",
       "      <td>1659.218012</td>\n",
       "      <td>9.968641</td>\n",
       "    </tr>\n",
       "    <tr>\n",
       "      <th>min</th>\n",
       "      <td>61.000000</td>\n",
       "      <td>3.000000</td>\n",
       "      <td>37.317298</td>\n",
       "      <td>-122.453704</td>\n",
       "      <td>3.000000</td>\n",
       "      <td>37.317298</td>\n",
       "      <td>-122.453704</td>\n",
       "      <td>11.000000</td>\n",
       "      <td>1930.000000</td>\n",
       "    </tr>\n",
       "    <tr>\n",
       "      <th>25%</th>\n",
       "      <td>323.000000</td>\n",
       "      <td>47.000000</td>\n",
       "      <td>37.770407</td>\n",
       "      <td>-122.411901</td>\n",
       "      <td>44.000000</td>\n",
       "      <td>37.770407</td>\n",
       "      <td>-122.411647</td>\n",
       "      <td>3799.000000</td>\n",
       "      <td>1980.000000</td>\n",
       "    </tr>\n",
       "    <tr>\n",
       "      <th>50%</th>\n",
       "      <td>510.000000</td>\n",
       "      <td>104.000000</td>\n",
       "      <td>37.780760</td>\n",
       "      <td>-122.398279</td>\n",
       "      <td>101.000000</td>\n",
       "      <td>37.781010</td>\n",
       "      <td>-122.397437</td>\n",
       "      <td>4960.000000</td>\n",
       "      <td>1987.000000</td>\n",
       "    </tr>\n",
       "    <tr>\n",
       "      <th>75%</th>\n",
       "      <td>789.000000</td>\n",
       "      <td>239.000000</td>\n",
       "      <td>37.797320</td>\n",
       "      <td>-122.283093</td>\n",
       "      <td>238.000000</td>\n",
       "      <td>37.797673</td>\n",
       "      <td>-122.286533</td>\n",
       "      <td>5505.000000</td>\n",
       "      <td>1992.000000</td>\n",
       "    </tr>\n",
       "    <tr>\n",
       "      <th>max</th>\n",
       "      <td>84548.000000</td>\n",
       "      <td>398.000000</td>\n",
       "      <td>37.880222</td>\n",
       "      <td>-121.874119</td>\n",
       "      <td>398.000000</td>\n",
       "      <td>37.880222</td>\n",
       "      <td>-121.874119</td>\n",
       "      <td>6645.000000</td>\n",
       "      <td>2001.000000</td>\n",
       "    </tr>\n",
       "  </tbody>\n",
       "</table>\n",
       "</div>"
      ],
      "text/plain": [
       "        duration_sec  start_station_id  start_station_latitude  \\\n",
       "count  174875.000000     174875.000000           174875.000000   \n",
       "mean      704.028009        138.981141               37.771206   \n",
       "std      1642.537925        111.637185                0.100409   \n",
       "min        61.000000          3.000000               37.317298   \n",
       "25%       323.000000         47.000000               37.770407   \n",
       "50%       510.000000        104.000000               37.780760   \n",
       "75%       789.000000        239.000000               37.797320   \n",
       "max     84548.000000        398.000000               37.880222   \n",
       "\n",
       "       start_station_longitude  end_station_id  end_station_latitude  \\\n",
       "count            174875.000000   174875.000000         174875.000000   \n",
       "mean               -122.351758      136.604655             37.771401   \n",
       "std                   0.117748      111.333687              0.100314   \n",
       "min                -122.453704        3.000000             37.317298   \n",
       "25%                -122.411901       44.000000             37.770407   \n",
       "50%                -122.398279      101.000000             37.781010   \n",
       "75%                -122.283093      238.000000             37.797673   \n",
       "max                -121.874119      398.000000             37.880222   \n",
       "\n",
       "       end_station_longitude        bike_id  member_birth_year  \n",
       "count          174875.000000  174875.000000      174875.000000  \n",
       "mean             -122.351334    4482.518273        1984.839726  \n",
       "std                 0.117311    1659.218012           9.968641  \n",
       "min              -122.453704      11.000000        1930.000000  \n",
       "25%              -122.411647    3799.000000        1980.000000  \n",
       "50%              -122.397437    4960.000000        1987.000000  \n",
       "75%              -122.286533    5505.000000        1992.000000  \n",
       "max              -121.874119    6645.000000        2001.000000  "
      ]
     },
     "execution_count": 106,
     "metadata": {},
     "output_type": "execute_result"
    }
   ],
   "source": [
    "#3change the dataset to include only those with birth year above 1928\n",
    "\n",
    "ford_bike = ford_bike[(ford_bike.member_birth_year > 1928)]\n",
    "ford_bike.describe()"
   ]
  },
  {
   "cell_type": "markdown",
   "metadata": {},
   "source": [
    "I will be grouping the birth year into categories called generations."
   ]
  },
  {
   "cell_type": "code",
   "execution_count": 107,
   "metadata": {},
   "outputs": [],
   "source": [
    "## this function groups the birth year into categories\n",
    "\n",
    "def age_col(birth_year):\n",
    "    if birth_year >= 1928 and birth_year <= 1945:\n",
    "        return('Post War')\n",
    "    elif birth_year >= 1946 and birth_year <= 1964:\n",
    "        return('Baby Boomers')\n",
    "    elif birth_year >= 1965 and birth_year <= 1980:\n",
    "        return('Gen X')\n",
    "    elif birth_year >= 1981 and birth_year <= 1996:\n",
    "        return('Millenials')\n",
    "    elif birth_year >= 1997 and birth_year <= 2012:\n",
    "        return('Gen Z')\n",
    "    else: np.NaN"
   ]
  },
  {
   "cell_type": "code",
   "execution_count": 108,
   "metadata": {},
   "outputs": [],
   "source": [
    "ford_bike['generation'] = ford_bike['member_birth_year'].apply(age_col)"
   ]
  },
  {
   "cell_type": "code",
   "execution_count": 109,
   "metadata": {},
   "outputs": [],
   "source": [
    "##Since the generation column gotten from year of birth actually comes in an order, I will make this column a categorical variable. This is to ensure that my visualisations make use of this and specify the older generations first.\n",
    " \n",
    "\n",
    "ford_bike['generation'] = pd.Categorical(ford_bike['generation'], categories=\n",
    "    ['Post War','Baby Boomers','Gen X','Millenials','Gen Z'],\n",
    "    ordered=True)"
   ]
  },
  {
   "cell_type": "code",
   "execution_count": null,
   "metadata": {},
   "outputs": [],
   "source": []
  },
  {
   "cell_type": "markdown",
   "metadata": {},
   "source": [
    "For the duration_sec column, the max value is 84548, which is an outlier. This is obvious from the dataset description which shows the values of the 25th, 50th and 75th percentile. The value is far from the other figures.\n",
    "\n",
    "The values of the percentiles are also shown below. This helps me decide what part of the dataset to focus on for my analysis."
   ]
  },
  {
   "cell_type": "code",
   "execution_count": 110,
   "metadata": {},
   "outputs": [
    {
     "data": {
      "text/plain": [
       "0.10     213.00\n",
       "0.11     222.00\n",
       "0.12     230.00\n",
       "0.13     237.00\n",
       "0.14     245.00\n",
       "0.15     252.00\n",
       "0.16     260.00\n",
       "0.17     267.00\n",
       "0.18     274.00\n",
       "0.19     281.00\n",
       "0.20     288.00\n",
       "0.21     295.00\n",
       "0.22     302.00\n",
       "0.23     309.00\n",
       "0.24     316.00\n",
       "0.25     323.00\n",
       "0.26     330.00\n",
       "0.27     337.00\n",
       "0.28     344.00\n",
       "0.29     350.00\n",
       "0.30     357.00\n",
       "0.31     364.00\n",
       "0.32     372.00\n",
       "0.33     379.00\n",
       "0.34     386.00\n",
       "0.35     393.00\n",
       "0.36     401.00\n",
       "0.37     409.00\n",
       "0.38     416.00\n",
       "0.39     423.00\n",
       "         ...   \n",
       "0.70     718.00\n",
       "0.71     731.00\n",
       "0.72     745.00\n",
       "0.73     759.00\n",
       "0.74     774.00\n",
       "0.75     789.00\n",
       "0.76     805.00\n",
       "0.77     822.00\n",
       "0.78     839.00\n",
       "0.79     858.00\n",
       "0.80     877.00\n",
       "0.81     897.00\n",
       "0.82     918.00\n",
       "0.83     939.00\n",
       "0.84     964.00\n",
       "0.85     990.00\n",
       "0.86    1017.00\n",
       "0.87    1049.00\n",
       "0.88    1081.00\n",
       "0.89    1118.00\n",
       "0.90    1161.00\n",
       "0.91    1210.00\n",
       "0.92    1266.00\n",
       "0.93    1337.00\n",
       "0.94    1420.00\n",
       "0.95    1531.00\n",
       "0.96    1686.00\n",
       "0.97    1905.00\n",
       "0.98    2271.52\n",
       "0.99    3176.00\n",
       "Name: duration_sec, Length: 90, dtype: float64"
      ]
     },
     "execution_count": 110,
     "metadata": {},
     "output_type": "execute_result"
    }
   ],
   "source": [
    "##grouping the duration in seconds per percentile\n",
    "## this is to enable me decide the values to keep\n",
    "\n",
    "time_range = list(np.arange(0.1, 1, 0.01))\n",
    "ford_bike['duration_sec'].quantile(time_range)"
   ]
  },
  {
   "cell_type": "code",
   "execution_count": 111,
   "metadata": {},
   "outputs": [
    {
     "data": {
      "text/plain": [
       "0.2500      323.0000\n",
       "0.5000      510.0000\n",
       "0.7500      789.0000\n",
       "0.9000     1161.0000\n",
       "0.9500     1531.0000\n",
       "0.9900     3176.0000\n",
       "0.9950     5039.8900\n",
       "0.9990    19938.1260\n",
       "0.9999    69713.8058\n",
       "Name: duration_sec, dtype: float64"
      ]
     },
     "execution_count": 111,
     "metadata": {},
     "output_type": "execute_result"
    }
   ],
   "source": [
    "##to see the duration_sec for specific quartiles\n",
    "\n",
    "time_range = list(np.arange(0.1, 1, 0.01))\n",
    "ford_bike['duration_sec'].quantile([0.25,0.50,0.75,0.90,0.95,0.99,0.995,0.999,0.9999])"
   ]
  },
  {
   "cell_type": "markdown",
   "metadata": {},
   "source": [
    "I will be focusing on the 99.5% quartile and delete records with seconds above the value of this quartile"
   ]
  },
  {
   "cell_type": "code",
   "execution_count": 112,
   "metadata": {},
   "outputs": [],
   "source": [
    "ford_bike = ford_bike[ford_bike['duration_sec'] <= ford_bike['duration_sec'].quantile(0.995)]\n",
    "\n",
    "\n"
   ]
  },
  {
   "cell_type": "code",
   "execution_count": 113,
   "metadata": {},
   "outputs": [
    {
     "data": {
      "text/html": [
       "<div>\n",
       "<style scoped>\n",
       "    .dataframe tbody tr th:only-of-type {\n",
       "        vertical-align: middle;\n",
       "    }\n",
       "\n",
       "    .dataframe tbody tr th {\n",
       "        vertical-align: top;\n",
       "    }\n",
       "\n",
       "    .dataframe thead th {\n",
       "        text-align: right;\n",
       "    }\n",
       "</style>\n",
       "<table border=\"1\" class=\"dataframe\">\n",
       "  <thead>\n",
       "    <tr style=\"text-align: right;\">\n",
       "      <th></th>\n",
       "      <th>duration_sec</th>\n",
       "      <th>start_station_id</th>\n",
       "      <th>start_station_latitude</th>\n",
       "      <th>start_station_longitude</th>\n",
       "      <th>end_station_id</th>\n",
       "      <th>end_station_latitude</th>\n",
       "      <th>end_station_longitude</th>\n",
       "      <th>bike_id</th>\n",
       "      <th>member_birth_year</th>\n",
       "    </tr>\n",
       "  </thead>\n",
       "  <tbody>\n",
       "    <tr>\n",
       "      <th>count</th>\n",
       "      <td>174000.000000</td>\n",
       "      <td>174000.000000</td>\n",
       "      <td>174000.000000</td>\n",
       "      <td>174000.000000</td>\n",
       "      <td>174000.000000</td>\n",
       "      <td>174000.000000</td>\n",
       "      <td>174000.000000</td>\n",
       "      <td>174000.000000</td>\n",
       "      <td>174000.000000</td>\n",
       "    </tr>\n",
       "    <tr>\n",
       "      <th>mean</th>\n",
       "      <td>629.045966</td>\n",
       "      <td>138.950006</td>\n",
       "      <td>37.771183</td>\n",
       "      <td>-122.351638</td>\n",
       "      <td>136.510184</td>\n",
       "      <td>37.771374</td>\n",
       "      <td>-122.351211</td>\n",
       "      <td>4481.967810</td>\n",
       "      <td>1984.844874</td>\n",
       "    </tr>\n",
       "    <tr>\n",
       "      <th>std</th>\n",
       "      <td>484.450628</td>\n",
       "      <td>111.530261</td>\n",
       "      <td>0.100503</td>\n",
       "      <td>0.117818</td>\n",
       "      <td>111.190188</td>\n",
       "      <td>0.100400</td>\n",
       "      <td>0.117371</td>\n",
       "      <td>1659.278635</td>\n",
       "      <td>9.966717</td>\n",
       "    </tr>\n",
       "    <tr>\n",
       "      <th>min</th>\n",
       "      <td>61.000000</td>\n",
       "      <td>3.000000</td>\n",
       "      <td>37.317298</td>\n",
       "      <td>-122.453704</td>\n",
       "      <td>3.000000</td>\n",
       "      <td>37.317298</td>\n",
       "      <td>-122.453704</td>\n",
       "      <td>11.000000</td>\n",
       "      <td>1930.000000</td>\n",
       "    </tr>\n",
       "    <tr>\n",
       "      <th>25%</th>\n",
       "      <td>322.000000</td>\n",
       "      <td>47.000000</td>\n",
       "      <td>37.770407</td>\n",
       "      <td>-122.411901</td>\n",
       "      <td>44.000000</td>\n",
       "      <td>37.770407</td>\n",
       "      <td>-122.411647</td>\n",
       "      <td>3799.000000</td>\n",
       "      <td>1980.000000</td>\n",
       "    </tr>\n",
       "    <tr>\n",
       "      <th>50%</th>\n",
       "      <td>508.000000</td>\n",
       "      <td>104.000000</td>\n",
       "      <td>37.780760</td>\n",
       "      <td>-122.398279</td>\n",
       "      <td>101.000000</td>\n",
       "      <td>37.781010</td>\n",
       "      <td>-122.397405</td>\n",
       "      <td>4960.000000</td>\n",
       "      <td>1987.000000</td>\n",
       "    </tr>\n",
       "    <tr>\n",
       "      <th>75%</th>\n",
       "      <td>783.000000</td>\n",
       "      <td>239.000000</td>\n",
       "      <td>37.797320</td>\n",
       "      <td>-122.283093</td>\n",
       "      <td>237.000000</td>\n",
       "      <td>37.797673</td>\n",
       "      <td>-122.285633</td>\n",
       "      <td>5505.000000</td>\n",
       "      <td>1992.000000</td>\n",
       "    </tr>\n",
       "    <tr>\n",
       "      <th>max</th>\n",
       "      <td>5038.000000</td>\n",
       "      <td>398.000000</td>\n",
       "      <td>37.880222</td>\n",
       "      <td>-121.874119</td>\n",
       "      <td>398.000000</td>\n",
       "      <td>37.880222</td>\n",
       "      <td>-121.874119</td>\n",
       "      <td>6645.000000</td>\n",
       "      <td>2001.000000</td>\n",
       "    </tr>\n",
       "  </tbody>\n",
       "</table>\n",
       "</div>"
      ],
      "text/plain": [
       "        duration_sec  start_station_id  start_station_latitude  \\\n",
       "count  174000.000000     174000.000000           174000.000000   \n",
       "mean      629.045966        138.950006               37.771183   \n",
       "std       484.450628        111.530261                0.100503   \n",
       "min        61.000000          3.000000               37.317298   \n",
       "25%       322.000000         47.000000               37.770407   \n",
       "50%       508.000000        104.000000               37.780760   \n",
       "75%       783.000000        239.000000               37.797320   \n",
       "max      5038.000000        398.000000               37.880222   \n",
       "\n",
       "       start_station_longitude  end_station_id  end_station_latitude  \\\n",
       "count            174000.000000   174000.000000         174000.000000   \n",
       "mean               -122.351638      136.510184             37.771374   \n",
       "std                   0.117818      111.190188              0.100400   \n",
       "min                -122.453704        3.000000             37.317298   \n",
       "25%                -122.411901       44.000000             37.770407   \n",
       "50%                -122.398279      101.000000             37.781010   \n",
       "75%                -122.283093      237.000000             37.797673   \n",
       "max                -121.874119      398.000000             37.880222   \n",
       "\n",
       "       end_station_longitude        bike_id  member_birth_year  \n",
       "count          174000.000000  174000.000000      174000.000000  \n",
       "mean             -122.351211    4481.967810        1984.844874  \n",
       "std                 0.117371    1659.278635           9.966717  \n",
       "min              -122.453704      11.000000        1930.000000  \n",
       "25%              -122.411647    3799.000000        1980.000000  \n",
       "50%              -122.397405    4960.000000        1987.000000  \n",
       "75%              -122.285633    5505.000000        1992.000000  \n",
       "max              -121.874119    6645.000000        2001.000000  "
      ]
     },
     "execution_count": 113,
     "metadata": {},
     "output_type": "execute_result"
    }
   ],
   "source": [
    "ford_bike.describe()"
   ]
  },
  {
   "cell_type": "code",
   "execution_count": 114,
   "metadata": {
    "scrolled": true
   },
   "outputs": [
    {
     "data": {
      "text/html": [
       "<div>\n",
       "<style scoped>\n",
       "    .dataframe tbody tr th:only-of-type {\n",
       "        vertical-align: middle;\n",
       "    }\n",
       "\n",
       "    .dataframe tbody tr th {\n",
       "        vertical-align: top;\n",
       "    }\n",
       "\n",
       "    .dataframe thead th {\n",
       "        text-align: right;\n",
       "    }\n",
       "</style>\n",
       "<table border=\"1\" class=\"dataframe\">\n",
       "  <thead>\n",
       "    <tr style=\"text-align: right;\">\n",
       "      <th></th>\n",
       "      <th>duration_sec</th>\n",
       "      <th>start_time</th>\n",
       "      <th>end_time</th>\n",
       "      <th>start_station_id</th>\n",
       "      <th>start_station_name</th>\n",
       "      <th>start_station_latitude</th>\n",
       "      <th>start_station_longitude</th>\n",
       "      <th>end_station_id</th>\n",
       "      <th>end_station_name</th>\n",
       "      <th>end_station_latitude</th>\n",
       "      <th>end_station_longitude</th>\n",
       "      <th>bike_id</th>\n",
       "      <th>user_type</th>\n",
       "      <th>member_birth_year</th>\n",
       "      <th>member_gender</th>\n",
       "      <th>bike_share_for_all_trip</th>\n",
       "      <th>start_day</th>\n",
       "      <th>start_month</th>\n",
       "      <th>start_hour</th>\n",
       "      <th>generation</th>\n",
       "    </tr>\n",
       "  </thead>\n",
       "  <tbody>\n",
       "    <tr>\n",
       "      <th>4</th>\n",
       "      <td>1585</td>\n",
       "      <td>2019-02-28 23:54:18.549</td>\n",
       "      <td>2019-03-01 00:20:44.074</td>\n",
       "      <td>7.0</td>\n",
       "      <td>Frank H Ogawa Plaza</td>\n",
       "      <td>37.804562</td>\n",
       "      <td>-122.271738</td>\n",
       "      <td>222.0</td>\n",
       "      <td>10th Ave at E 15th St</td>\n",
       "      <td>37.792714</td>\n",
       "      <td>-122.24878</td>\n",
       "      <td>4898</td>\n",
       "      <td>Subscriber</td>\n",
       "      <td>1974</td>\n",
       "      <td>Male</td>\n",
       "      <td>Yes</td>\n",
       "      <td>Thursday</td>\n",
       "      <td>February</td>\n",
       "      <td>23</td>\n",
       "      <td>Gen X</td>\n",
       "    </tr>\n",
       "    <tr>\n",
       "      <th>5</th>\n",
       "      <td>1793</td>\n",
       "      <td>2019-02-28 23:49:58.632</td>\n",
       "      <td>2019-03-01 00:19:51.760</td>\n",
       "      <td>93.0</td>\n",
       "      <td>4th St at Mission Bay Blvd S</td>\n",
       "      <td>37.770407</td>\n",
       "      <td>-122.391198</td>\n",
       "      <td>323.0</td>\n",
       "      <td>Broadway at Kearny</td>\n",
       "      <td>37.798014</td>\n",
       "      <td>-122.40595</td>\n",
       "      <td>5200</td>\n",
       "      <td>Subscriber</td>\n",
       "      <td>1959</td>\n",
       "      <td>Male</td>\n",
       "      <td>No</td>\n",
       "      <td>Thursday</td>\n",
       "      <td>February</td>\n",
       "      <td>23</td>\n",
       "      <td>Baby Boomers</td>\n",
       "    </tr>\n",
       "  </tbody>\n",
       "</table>\n",
       "</div>"
      ],
      "text/plain": [
       "   duration_sec              start_time                end_time  \\\n",
       "4          1585 2019-02-28 23:54:18.549 2019-03-01 00:20:44.074   \n",
       "5          1793 2019-02-28 23:49:58.632 2019-03-01 00:19:51.760   \n",
       "\n",
       "   start_station_id            start_station_name  start_station_latitude  \\\n",
       "4               7.0           Frank H Ogawa Plaza               37.804562   \n",
       "5              93.0  4th St at Mission Bay Blvd S               37.770407   \n",
       "\n",
       "   start_station_longitude  end_station_id       end_station_name  \\\n",
       "4              -122.271738           222.0  10th Ave at E 15th St   \n",
       "5              -122.391198           323.0     Broadway at Kearny   \n",
       "\n",
       "   end_station_latitude  end_station_longitude  bike_id   user_type  \\\n",
       "4             37.792714             -122.24878     4898  Subscriber   \n",
       "5             37.798014             -122.40595     5200  Subscriber   \n",
       "\n",
       "   member_birth_year member_gender bike_share_for_all_trip start_day  \\\n",
       "4               1974          Male                     Yes  Thursday   \n",
       "5               1959          Male                      No  Thursday   \n",
       "\n",
       "  start_month start_hour    generation  \n",
       "4    February         23         Gen X  \n",
       "5    February         23  Baby Boomers  "
      ]
     },
     "execution_count": 114,
     "metadata": {},
     "output_type": "execute_result"
    }
   ],
   "source": [
    "ford_bike.head(2)"
   ]
  },
  {
   "cell_type": "code",
   "execution_count": 115,
   "metadata": {
    "scrolled": true
   },
   "outputs": [
    {
     "data": {
      "text/html": [
       "<div>\n",
       "<style scoped>\n",
       "    .dataframe tbody tr th:only-of-type {\n",
       "        vertical-align: middle;\n",
       "    }\n",
       "\n",
       "    .dataframe tbody tr th {\n",
       "        vertical-align: top;\n",
       "    }\n",
       "\n",
       "    .dataframe thead th {\n",
       "        text-align: right;\n",
       "    }\n",
       "</style>\n",
       "<table border=\"1\" class=\"dataframe\">\n",
       "  <thead>\n",
       "    <tr style=\"text-align: right;\">\n",
       "      <th></th>\n",
       "      <th>duration_sec</th>\n",
       "      <th>start_time</th>\n",
       "      <th>end_time</th>\n",
       "      <th>start_station_id</th>\n",
       "      <th>start_station_name</th>\n",
       "      <th>start_station_latitude</th>\n",
       "      <th>start_station_longitude</th>\n",
       "      <th>end_station_id</th>\n",
       "      <th>end_station_name</th>\n",
       "      <th>end_station_latitude</th>\n",
       "      <th>...</th>\n",
       "      <th>bike_id</th>\n",
       "      <th>user_type</th>\n",
       "      <th>member_birth_year</th>\n",
       "      <th>member_gender</th>\n",
       "      <th>bike_share_for_all_trip</th>\n",
       "      <th>start_day</th>\n",
       "      <th>start_month</th>\n",
       "      <th>start_hour</th>\n",
       "      <th>generation</th>\n",
       "      <th>duration_mins</th>\n",
       "    </tr>\n",
       "  </thead>\n",
       "  <tbody>\n",
       "    <tr>\n",
       "      <th>4</th>\n",
       "      <td>1585</td>\n",
       "      <td>2019-02-28 23:54:18.549</td>\n",
       "      <td>2019-03-01 00:20:44.074</td>\n",
       "      <td>7.0</td>\n",
       "      <td>Frank H Ogawa Plaza</td>\n",
       "      <td>37.804562</td>\n",
       "      <td>-122.271738</td>\n",
       "      <td>222.0</td>\n",
       "      <td>10th Ave at E 15th St</td>\n",
       "      <td>37.792714</td>\n",
       "      <td>...</td>\n",
       "      <td>4898</td>\n",
       "      <td>Subscriber</td>\n",
       "      <td>1974</td>\n",
       "      <td>Male</td>\n",
       "      <td>Yes</td>\n",
       "      <td>Thursday</td>\n",
       "      <td>February</td>\n",
       "      <td>23</td>\n",
       "      <td>Gen X</td>\n",
       "      <td>26</td>\n",
       "    </tr>\n",
       "    <tr>\n",
       "      <th>5</th>\n",
       "      <td>1793</td>\n",
       "      <td>2019-02-28 23:49:58.632</td>\n",
       "      <td>2019-03-01 00:19:51.760</td>\n",
       "      <td>93.0</td>\n",
       "      <td>4th St at Mission Bay Blvd S</td>\n",
       "      <td>37.770407</td>\n",
       "      <td>-122.391198</td>\n",
       "      <td>323.0</td>\n",
       "      <td>Broadway at Kearny</td>\n",
       "      <td>37.798014</td>\n",
       "      <td>...</td>\n",
       "      <td>5200</td>\n",
       "      <td>Subscriber</td>\n",
       "      <td>1959</td>\n",
       "      <td>Male</td>\n",
       "      <td>No</td>\n",
       "      <td>Thursday</td>\n",
       "      <td>February</td>\n",
       "      <td>23</td>\n",
       "      <td>Baby Boomers</td>\n",
       "      <td>30</td>\n",
       "    </tr>\n",
       "  </tbody>\n",
       "</table>\n",
       "<p>2 rows × 21 columns</p>\n",
       "</div>"
      ],
      "text/plain": [
       "   duration_sec              start_time                end_time  \\\n",
       "4          1585 2019-02-28 23:54:18.549 2019-03-01 00:20:44.074   \n",
       "5          1793 2019-02-28 23:49:58.632 2019-03-01 00:19:51.760   \n",
       "\n",
       "   start_station_id            start_station_name  start_station_latitude  \\\n",
       "4               7.0           Frank H Ogawa Plaza               37.804562   \n",
       "5              93.0  4th St at Mission Bay Blvd S               37.770407   \n",
       "\n",
       "   start_station_longitude  end_station_id       end_station_name  \\\n",
       "4              -122.271738           222.0  10th Ave at E 15th St   \n",
       "5              -122.391198           323.0     Broadway at Kearny   \n",
       "\n",
       "   end_station_latitude      ...       bike_id   user_type member_birth_year  \\\n",
       "4             37.792714      ...          4898  Subscriber              1974   \n",
       "5             37.798014      ...          5200  Subscriber              1959   \n",
       "\n",
       "   member_gender bike_share_for_all_trip start_day start_month start_hour  \\\n",
       "4           Male                     Yes  Thursday    February         23   \n",
       "5           Male                      No  Thursday    February         23   \n",
       "\n",
       "     generation duration_mins  \n",
       "4         Gen X            26  \n",
       "5  Baby Boomers            30  \n",
       "\n",
       "[2 rows x 21 columns]"
      ]
     },
     "execution_count": 115,
     "metadata": {},
     "output_type": "execute_result"
    }
   ],
   "source": [
    "## create a column to convert duration seconds to minutes\n",
    "\n",
    "ford_bike['duration_mins'] = round(ford_bike['duration_sec']/60,0).astype('int')\n",
    "ford_bike.head(2)"
   ]
  },
  {
   "cell_type": "code",
   "execution_count": 116,
   "metadata": {
    "scrolled": true
   },
   "outputs": [
    {
     "data": {
      "text/html": [
       "<div>\n",
       "<style scoped>\n",
       "    .dataframe tbody tr th:only-of-type {\n",
       "        vertical-align: middle;\n",
       "    }\n",
       "\n",
       "    .dataframe tbody tr th {\n",
       "        vertical-align: top;\n",
       "    }\n",
       "\n",
       "    .dataframe thead th {\n",
       "        text-align: right;\n",
       "    }\n",
       "</style>\n",
       "<table border=\"1\" class=\"dataframe\">\n",
       "  <thead>\n",
       "    <tr style=\"text-align: right;\">\n",
       "      <th></th>\n",
       "      <th>duration_mins</th>\n",
       "      <th>duration_sec</th>\n",
       "    </tr>\n",
       "  </thead>\n",
       "  <tbody>\n",
       "    <tr>\n",
       "      <th>4</th>\n",
       "      <td>26</td>\n",
       "      <td>1585</td>\n",
       "    </tr>\n",
       "    <tr>\n",
       "      <th>5</th>\n",
       "      <td>30</td>\n",
       "      <td>1793</td>\n",
       "    </tr>\n",
       "    <tr>\n",
       "      <th>6</th>\n",
       "      <td>19</td>\n",
       "      <td>1147</td>\n",
       "    </tr>\n",
       "    <tr>\n",
       "      <th>7</th>\n",
       "      <td>27</td>\n",
       "      <td>1615</td>\n",
       "    </tr>\n",
       "    <tr>\n",
       "      <th>8</th>\n",
       "      <td>26</td>\n",
       "      <td>1570</td>\n",
       "    </tr>\n",
       "  </tbody>\n",
       "</table>\n",
       "</div>"
      ],
      "text/plain": [
       "   duration_mins  duration_sec\n",
       "4             26          1585\n",
       "5             30          1793\n",
       "6             19          1147\n",
       "7             27          1615\n",
       "8             26          1570"
      ]
     },
     "execution_count": 116,
     "metadata": {},
     "output_type": "execute_result"
    }
   ],
   "source": [
    "ford_bike[['duration_mins','duration_sec']].head()"
   ]
  },
  {
   "cell_type": "code",
   "execution_count": 117,
   "metadata": {},
   "outputs": [
    {
     "data": {
      "text/html": [
       "<div>\n",
       "<style scoped>\n",
       "    .dataframe tbody tr th:only-of-type {\n",
       "        vertical-align: middle;\n",
       "    }\n",
       "\n",
       "    .dataframe tbody tr th {\n",
       "        vertical-align: top;\n",
       "    }\n",
       "\n",
       "    .dataframe thead th {\n",
       "        text-align: right;\n",
       "    }\n",
       "</style>\n",
       "<table border=\"1\" class=\"dataframe\">\n",
       "  <thead>\n",
       "    <tr style=\"text-align: right;\">\n",
       "      <th></th>\n",
       "      <th>duration_sec</th>\n",
       "      <th>start_time</th>\n",
       "      <th>end_time</th>\n",
       "      <th>start_station_id</th>\n",
       "      <th>start_station_name</th>\n",
       "      <th>start_station_latitude</th>\n",
       "      <th>start_station_longitude</th>\n",
       "      <th>end_station_id</th>\n",
       "      <th>end_station_name</th>\n",
       "      <th>end_station_latitude</th>\n",
       "      <th>...</th>\n",
       "      <th>user_type</th>\n",
       "      <th>member_birth_year</th>\n",
       "      <th>member_gender</th>\n",
       "      <th>bike_share_for_all_trip</th>\n",
       "      <th>start_day</th>\n",
       "      <th>start_month</th>\n",
       "      <th>start_hour</th>\n",
       "      <th>generation</th>\n",
       "      <th>duration_mins</th>\n",
       "      <th>rider_age</th>\n",
       "    </tr>\n",
       "  </thead>\n",
       "  <tbody>\n",
       "    <tr>\n",
       "      <th>4</th>\n",
       "      <td>1585</td>\n",
       "      <td>2019-02-28 23:54:18.549</td>\n",
       "      <td>2019-03-01 00:20:44.074</td>\n",
       "      <td>7.0</td>\n",
       "      <td>Frank H Ogawa Plaza</td>\n",
       "      <td>37.804562</td>\n",
       "      <td>-122.271738</td>\n",
       "      <td>222.0</td>\n",
       "      <td>10th Ave at E 15th St</td>\n",
       "      <td>37.792714</td>\n",
       "      <td>...</td>\n",
       "      <td>Subscriber</td>\n",
       "      <td>1974</td>\n",
       "      <td>Male</td>\n",
       "      <td>Yes</td>\n",
       "      <td>Thursday</td>\n",
       "      <td>February</td>\n",
       "      <td>23</td>\n",
       "      <td>Gen X</td>\n",
       "      <td>26</td>\n",
       "      <td>45</td>\n",
       "    </tr>\n",
       "    <tr>\n",
       "      <th>5</th>\n",
       "      <td>1793</td>\n",
       "      <td>2019-02-28 23:49:58.632</td>\n",
       "      <td>2019-03-01 00:19:51.760</td>\n",
       "      <td>93.0</td>\n",
       "      <td>4th St at Mission Bay Blvd S</td>\n",
       "      <td>37.770407</td>\n",
       "      <td>-122.391198</td>\n",
       "      <td>323.0</td>\n",
       "      <td>Broadway at Kearny</td>\n",
       "      <td>37.798014</td>\n",
       "      <td>...</td>\n",
       "      <td>Subscriber</td>\n",
       "      <td>1959</td>\n",
       "      <td>Male</td>\n",
       "      <td>No</td>\n",
       "      <td>Thursday</td>\n",
       "      <td>February</td>\n",
       "      <td>23</td>\n",
       "      <td>Baby Boomers</td>\n",
       "      <td>30</td>\n",
       "      <td>60</td>\n",
       "    </tr>\n",
       "  </tbody>\n",
       "</table>\n",
       "<p>2 rows × 22 columns</p>\n",
       "</div>"
      ],
      "text/plain": [
       "   duration_sec              start_time                end_time  \\\n",
       "4          1585 2019-02-28 23:54:18.549 2019-03-01 00:20:44.074   \n",
       "5          1793 2019-02-28 23:49:58.632 2019-03-01 00:19:51.760   \n",
       "\n",
       "   start_station_id            start_station_name  start_station_latitude  \\\n",
       "4               7.0           Frank H Ogawa Plaza               37.804562   \n",
       "5              93.0  4th St at Mission Bay Blvd S               37.770407   \n",
       "\n",
       "   start_station_longitude  end_station_id       end_station_name  \\\n",
       "4              -122.271738           222.0  10th Ave at E 15th St   \n",
       "5              -122.391198           323.0     Broadway at Kearny   \n",
       "\n",
       "   end_station_latitude    ...      user_type  member_birth_year  \\\n",
       "4             37.792714    ...     Subscriber               1974   \n",
       "5             37.798014    ...     Subscriber               1959   \n",
       "\n",
       "  member_gender  bike_share_for_all_trip start_day start_month start_hour  \\\n",
       "4          Male                      Yes  Thursday    February         23   \n",
       "5          Male                       No  Thursday    February         23   \n",
       "\n",
       "     generation duration_mins rider_age  \n",
       "4         Gen X            26        45  \n",
       "5  Baby Boomers            30        60  \n",
       "\n",
       "[2 rows x 22 columns]"
      ]
     },
     "execution_count": 117,
     "metadata": {},
     "output_type": "execute_result"
    }
   ],
   "source": [
    "##calculate the age of the rider. 2019 is used as base year because the records are from 2019.\n",
    "\n",
    "ford_bike['rider_age'] = 2019- ford_bike['member_birth_year']\n",
    "ford_bike['rider_age'] = ford_bike['rider_age'].astype('int')\n",
    "\n",
    "ford_bike.head(2)"
   ]
  },
  {
   "cell_type": "markdown",
   "metadata": {},
   "source": [
    "The clean data will be exported to a csv file"
   ]
  },
  {
   "cell_type": "code",
   "execution_count": 118,
   "metadata": {},
   "outputs": [],
   "source": [
    "ford_bike.to_csv('bike_data_clean.csv', index = False)\n"
   ]
  },
  {
   "cell_type": "markdown",
   "metadata": {},
   "source": [
    "# Data Exploration\n"
   ]
  },
  {
   "cell_type": "markdown",
   "metadata": {},
   "source": [
    "## Univariate Exploration\n",
    "\n",
    "\n"
   ]
  },
  {
   "cell_type": "markdown",
   "metadata": {},
   "source": [
    "**Question: What generation is the most users of the bike sharing system?**\n"
   ]
  },
  {
   "cell_type": "code",
   "execution_count": 119,
   "metadata": {},
   "outputs": [
    {
     "data": {
      "text/plain": [
       "Millenials      117848\n",
       "Gen X            36360\n",
       "Gen Z            10846\n",
       "Baby Boomers      8654\n",
       "Post War           292\n",
       "Name: generation, dtype: int64"
      ]
     },
     "execution_count": 119,
     "metadata": {},
     "output_type": "execute_result"
    }
   ],
   "source": [
    "# take a count of riders per generation\n",
    "gen_counts = ford_bike.generation.value_counts()\n",
    "gen_counts"
   ]
  },
  {
   "cell_type": "code",
   "execution_count": 120,
   "metadata": {},
   "outputs": [
    {
     "data": {
      "image/png": "[encoded data removed]",
      "text/plain": [
       "<matplotlib.figure.Figure at 0x7f211fce1ba8>"
      ]
     },
     "metadata": {
      "needs_background": "light"
     },
     "output_type": "display_data"
    }
   ],
   "source": [
    "plt.figure(figsize=(10,7))\n",
    "gen_counts.plot(kind = 'bar', title = 'Number of users by generations')\n",
    "plt.xlabel('Generation')\n",
    "plt.ylabel('number of users');"
   ]
  },
  {
   "cell_type": "code",
   "execution_count": null,
   "metadata": {},
   "outputs": [],
   "source": []
  },
  {
   "cell_type": "markdown",
   "metadata": {},
   "source": [
    "**Observation:** The millenials have the highest count among those who use the bike sharing system.Their number is more than thrice the number for the generation with the next highest count. The Post War generation has the least number of users which is expected, due to their ages."
   ]
  },
  {
   "cell_type": "code",
   "execution_count": null,
   "metadata": {},
   "outputs": [],
   "source": []
  },
  {
   "cell_type": "markdown",
   "metadata": {},
   "source": [
    "**Question: What day of the week is the busiest and what day is the least busy day?**\n"
   ]
  },
  {
   "cell_type": "markdown",
   "metadata": {},
   "source": [
    "To do this, I want to order the week days before plotting the graph. To do this, I order the week days into categories."
   ]
  },
  {
   "cell_type": "code",
   "execution_count": 121,
   "metadata": {},
   "outputs": [],
   "source": [
    "##I am assuming Monday to be the first day of the week, this explains why the first day in my list is Monday and not SUnday. \n",
    "\n",
    "ford_bike['start_day'] = pd.Categorical(ford_bike['start_day'], categories=\n",
    "    ['Monday','Tuesday','Wednesday','Thursday','Friday','Saturday', 'Sunday'],\n",
    "    ordered=True)\n"
   ]
  },
  {
   "cell_type": "code",
   "execution_count": 122,
   "metadata": {},
   "outputs": [
    {
     "name": "stdout",
     "output_type": "stream",
     "text": [
      "Monday       25486\n",
      "Tuesday      30482\n",
      "Wednesday    28304\n",
      "Thursday     33576\n",
      "Friday       27533\n",
      "Saturday     14278\n",
      "Sunday       14341\n",
      "Name: start_day, dtype: int64\n"
     ]
    }
   ],
   "source": [
    "## count the rides per day\n",
    "\n",
    "rides_by_day = ford_bike.start_day.value_counts()\n",
    "rides_by_day = rides_by_day.sort_index()\n",
    "print(rides_by_day)\n",
    "\n",
    "\n"
   ]
  },
  {
   "cell_type": "code",
   "execution_count": 123,
   "metadata": {
    "scrolled": false
   },
   "outputs": [
    {
     "data": {
      "image/png": "[encoded data removed]",
      "text/plain": [
       "<matplotlib.figure.Figure at 0x7f2120060eb8>"
      ]
     },
     "metadata": {
      "needs_background": "light"
     },
     "output_type": "display_data"
    }
   ],
   "source": [
    "\n",
    "base_color = sb.color_palette()[0]## to ensure the graph has just one color for the bars\n",
    "plt.figure(figsize=(10,7))\n",
    "sb.countplot(data = ford_bike, x = 'start_day', color = base_color);\n",
    "plt.title('Distribution of Rides across the days of Week')\n",
    "plt.xlabel('Day of Week')\n",
    "plt.xticks(rotation = 15)\n",
    "plt.ylabel('Number of Rides')\n",
    "plt.show()"
   ]
  },
  {
   "cell_type": "markdown",
   "metadata": {},
   "source": [
    "**Observation:** First thing I noticed was there are more riders on the days of the week than weekends. This probably means more people use the bikes to work. However, Thursday has the highest count among the week days. I guess there is something \"special\" about Thursdays!. Is there a discount? Does an event happen?"
   ]
  },
  {
   "cell_type": "markdown",
   "metadata": {},
   "source": [
    "**Question:** Is there a particular gender that uses this service more or are the figures evenly distributed across genders?\n"
   ]
  },
  {
   "cell_type": "code",
   "execution_count": 124,
   "metadata": {},
   "outputs": [
    {
     "data": {
      "image/png": "[encoded data removed]",
      "text/plain": [
       "<matplotlib.figure.Figure at 0x7f21200d1c88>"
      ]
     },
     "metadata": {},
     "output_type": "display_data"
    }
   ],
   "source": [
    "gender_cnt = ford_bike.member_gender.value_counts()\n",
    "gender_cnt\n",
    "plt.figure(figsize=(10,7))\n",
    "gender_cnt.plot(kind = 'pie', title = 'A pie Chart showing distribution of riders by gender')\n",
    "plt.axis('square')\n",
    "plt.legend();"
   ]
  },
  {
   "cell_type": "markdown",
   "metadata": {},
   "source": [
    "**Observation:** The male gender has more users of the bike sharing system than other genders"
   ]
  },
  {
   "cell_type": "code",
   "execution_count": null,
   "metadata": {},
   "outputs": [],
   "source": []
  },
  {
   "cell_type": "markdown",
   "metadata": {},
   "source": [
    "**Question:** What category of user types use the service more?\n"
   ]
  },
  {
   "cell_type": "code",
   "execution_count": 125,
   "metadata": {},
   "outputs": [
    {
     "data": {
      "image/png": "[encoded data removed]",
      "text/plain": [
       "<matplotlib.figure.Figure at 0x7f21203c6e80>"
      ]
     },
     "metadata": {
      "needs_background": "light"
     },
     "output_type": "display_data"
    }
   ],
   "source": [
    "user_cnt = ford_bike.user_type.value_counts()\n",
    "user_cnt\n",
    "plt.figure(figsize=(10,7))\n",
    "user_cnt.plot(kind = 'barh', title = 'Number of riders per user type')\n",
    "plt.ylabel('user_type')\n",
    "plt.xlabel('number of riders');\n",
    "\n",
    "#plt.legend();"
   ]
  },
  {
   "cell_type": "markdown",
   "metadata": {},
   "source": [
    "**Observation:** The bar graph above shows that there are more subscribers using the bike sharing system than \"regular\" customers"
   ]
  },
  {
   "cell_type": "code",
   "execution_count": null,
   "metadata": {},
   "outputs": [],
   "source": []
  },
  {
   "cell_type": "markdown",
   "metadata": {},
   "source": [
    "**Question:** How often do people opt for the bike share for all trip option?\n"
   ]
  },
  {
   "cell_type": "code",
   "execution_count": 126,
   "metadata": {},
   "outputs": [
    {
     "data": {
      "image/png": "[encoded data removed]",
      "text/plain": [
       "<matplotlib.figure.Figure at 0x7f212c953ef0>"
      ]
     },
     "metadata": {
      "needs_background": "light"
     },
     "output_type": "display_data"
    }
   ],
   "source": [
    "bike_share_cnt = ford_bike.bike_share_for_all_trip.value_counts()\n",
    "bike_share_cnt\n",
    "plt.figure(figsize=(10,7))\n",
    "bike_share_cnt.plot(kind = 'bar', title = 'Number of riders per Choice of Bike Share for all Trip')\n",
    "plt.xlabel('Bike Share Choice')\n",
    "plt.ylabel('number of riders')\n",
    "plt.xticks(rotation = 0);"
   ]
  },
  {
   "cell_type": "markdown",
   "metadata": {},
   "source": [
    "**Observation:** It can be seen that there are more riders who do not opt for the bike share for all trip than those who do."
   ]
  },
  {
   "cell_type": "code",
   "execution_count": null,
   "metadata": {},
   "outputs": [],
   "source": []
  },
  {
   "cell_type": "code",
   "execution_count": null,
   "metadata": {},
   "outputs": [],
   "source": []
  },
  {
   "cell_type": "markdown",
   "metadata": {},
   "source": [
    "### Discuss the distribution(s) of your variable(s) of interest. Were there any unusual points? Did you need to perform any transformations?\n",
    "\n",
    ">There were some unusual points in the variables I analysed. For the member birth year, there were riders above 90 years old. There was a major outlier there, aged 141. It is very unlikely that that is accurate. This was removed from my dataset and I transformed the dataset to feature only customers 90 years and below.\n",
    "\n",
    "### Of the features you investigated, were there any unusual distributions? Did you perform any operations on the data to tidy, adjust, or change the form of the data? If so, why did you do this?\n",
    "\n",
    "> I also changed the form of some columns and also added new columns to make the analysis easier. I also extracted week day from the start time so I could get a column that shows the exact day of the week. I grouped the riders into categories by the year of birth they were born in."
   ]
  },
  {
   "cell_type": "markdown",
   "metadata": {},
   "source": [
    "## Bivariate Exploration\n",
    "\n",
    "> In this section, investigate relationships between pairs of variables in your\n",
    "data. Make sure the variables that you cover here have been introduced in some\n",
    "fashion in the previous section (univariate exploration)."
   ]
  },
  {
   "cell_type": "code",
   "execution_count": 127,
   "metadata": {},
   "outputs": [
    {
     "data": {
      "text/html": [
       "<div>\n",
       "<style scoped>\n",
       "    .dataframe tbody tr th:only-of-type {\n",
       "        vertical-align: middle;\n",
       "    }\n",
       "\n",
       "    .dataframe tbody tr th {\n",
       "        vertical-align: top;\n",
       "    }\n",
       "\n",
       "    .dataframe thead th {\n",
       "        text-align: right;\n",
       "    }\n",
       "</style>\n",
       "<table border=\"1\" class=\"dataframe\">\n",
       "  <thead>\n",
       "    <tr style=\"text-align: right;\">\n",
       "      <th></th>\n",
       "      <th>duration_sec</th>\n",
       "      <th>start_time</th>\n",
       "      <th>end_time</th>\n",
       "      <th>start_station_id</th>\n",
       "      <th>start_station_name</th>\n",
       "      <th>start_station_latitude</th>\n",
       "      <th>start_station_longitude</th>\n",
       "      <th>end_station_id</th>\n",
       "      <th>end_station_name</th>\n",
       "      <th>end_station_latitude</th>\n",
       "      <th>...</th>\n",
       "      <th>user_type</th>\n",
       "      <th>member_birth_year</th>\n",
       "      <th>member_gender</th>\n",
       "      <th>bike_share_for_all_trip</th>\n",
       "      <th>start_day</th>\n",
       "      <th>start_month</th>\n",
       "      <th>start_hour</th>\n",
       "      <th>generation</th>\n",
       "      <th>duration_mins</th>\n",
       "      <th>rider_age</th>\n",
       "    </tr>\n",
       "  </thead>\n",
       "  <tbody>\n",
       "    <tr>\n",
       "      <th>4</th>\n",
       "      <td>1585</td>\n",
       "      <td>2019-02-28 23:54:18.549</td>\n",
       "      <td>2019-03-01 00:20:44.074</td>\n",
       "      <td>7.0</td>\n",
       "      <td>Frank H Ogawa Plaza</td>\n",
       "      <td>37.804562</td>\n",
       "      <td>-122.271738</td>\n",
       "      <td>222.0</td>\n",
       "      <td>10th Ave at E 15th St</td>\n",
       "      <td>37.792714</td>\n",
       "      <td>...</td>\n",
       "      <td>Subscriber</td>\n",
       "      <td>1974</td>\n",
       "      <td>Male</td>\n",
       "      <td>Yes</td>\n",
       "      <td>Thursday</td>\n",
       "      <td>February</td>\n",
       "      <td>23</td>\n",
       "      <td>Gen X</td>\n",
       "      <td>26</td>\n",
       "      <td>45</td>\n",
       "    </tr>\n",
       "    <tr>\n",
       "      <th>5</th>\n",
       "      <td>1793</td>\n",
       "      <td>2019-02-28 23:49:58.632</td>\n",
       "      <td>2019-03-01 00:19:51.760</td>\n",
       "      <td>93.0</td>\n",
       "      <td>4th St at Mission Bay Blvd S</td>\n",
       "      <td>37.770407</td>\n",
       "      <td>-122.391198</td>\n",
       "      <td>323.0</td>\n",
       "      <td>Broadway at Kearny</td>\n",
       "      <td>37.798014</td>\n",
       "      <td>...</td>\n",
       "      <td>Subscriber</td>\n",
       "      <td>1959</td>\n",
       "      <td>Male</td>\n",
       "      <td>No</td>\n",
       "      <td>Thursday</td>\n",
       "      <td>February</td>\n",
       "      <td>23</td>\n",
       "      <td>Baby Boomers</td>\n",
       "      <td>30</td>\n",
       "      <td>60</td>\n",
       "    </tr>\n",
       "  </tbody>\n",
       "</table>\n",
       "<p>2 rows × 22 columns</p>\n",
       "</div>"
      ],
      "text/plain": [
       "   duration_sec              start_time                end_time  \\\n",
       "4          1585 2019-02-28 23:54:18.549 2019-03-01 00:20:44.074   \n",
       "5          1793 2019-02-28 23:49:58.632 2019-03-01 00:19:51.760   \n",
       "\n",
       "   start_station_id            start_station_name  start_station_latitude  \\\n",
       "4               7.0           Frank H Ogawa Plaza               37.804562   \n",
       "5              93.0  4th St at Mission Bay Blvd S               37.770407   \n",
       "\n",
       "   start_station_longitude  end_station_id       end_station_name  \\\n",
       "4              -122.271738           222.0  10th Ave at E 15th St   \n",
       "5              -122.391198           323.0     Broadway at Kearny   \n",
       "\n",
       "   end_station_latitude    ...      user_type  member_birth_year  \\\n",
       "4             37.792714    ...     Subscriber               1974   \n",
       "5             37.798014    ...     Subscriber               1959   \n",
       "\n",
       "  member_gender  bike_share_for_all_trip start_day start_month start_hour  \\\n",
       "4          Male                      Yes  Thursday    February         23   \n",
       "5          Male                       No  Thursday    February         23   \n",
       "\n",
       "     generation duration_mins rider_age  \n",
       "4         Gen X            26        45  \n",
       "5  Baby Boomers            30        60  \n",
       "\n",
       "[2 rows x 22 columns]"
      ]
     },
     "execution_count": 127,
     "metadata": {},
     "output_type": "execute_result"
    }
   ],
   "source": [
    "ford_bike.head(2)"
   ]
  },
  {
   "cell_type": "code",
   "execution_count": 128,
   "metadata": {},
   "outputs": [
    {
     "data": {
      "text/html": [
       "<div>\n",
       "<style scoped>\n",
       "    .dataframe tbody tr th:only-of-type {\n",
       "        vertical-align: middle;\n",
       "    }\n",
       "\n",
       "    .dataframe tbody tr th {\n",
       "        vertical-align: top;\n",
       "    }\n",
       "\n",
       "    .dataframe thead th {\n",
       "        text-align: right;\n",
       "    }\n",
       "</style>\n",
       "<table border=\"1\" class=\"dataframe\">\n",
       "  <thead>\n",
       "    <tr style=\"text-align: right;\">\n",
       "      <th></th>\n",
       "      <th>duration_sec</th>\n",
       "      <th>start_station_id</th>\n",
       "      <th>start_station_latitude</th>\n",
       "      <th>start_station_longitude</th>\n",
       "      <th>end_station_id</th>\n",
       "      <th>end_station_latitude</th>\n",
       "      <th>end_station_longitude</th>\n",
       "      <th>bike_id</th>\n",
       "      <th>member_birth_year</th>\n",
       "      <th>duration_mins</th>\n",
       "      <th>rider_age</th>\n",
       "    </tr>\n",
       "  </thead>\n",
       "  <tbody>\n",
       "    <tr>\n",
       "      <th>count</th>\n",
       "      <td>174000.000000</td>\n",
       "      <td>174000.000000</td>\n",
       "      <td>174000.000000</td>\n",
       "      <td>174000.000000</td>\n",
       "      <td>174000.000000</td>\n",
       "      <td>174000.000000</td>\n",
       "      <td>174000.000000</td>\n",
       "      <td>174000.000000</td>\n",
       "      <td>174000.000000</td>\n",
       "      <td>174000.000000</td>\n",
       "      <td>174000.000000</td>\n",
       "    </tr>\n",
       "    <tr>\n",
       "      <th>mean</th>\n",
       "      <td>629.045966</td>\n",
       "      <td>138.950006</td>\n",
       "      <td>37.771183</td>\n",
       "      <td>-122.351638</td>\n",
       "      <td>136.510184</td>\n",
       "      <td>37.771374</td>\n",
       "      <td>-122.351211</td>\n",
       "      <td>4481.967810</td>\n",
       "      <td>1984.844874</td>\n",
       "      <td>10.483914</td>\n",
       "      <td>34.155126</td>\n",
       "    </tr>\n",
       "    <tr>\n",
       "      <th>std</th>\n",
       "      <td>484.450628</td>\n",
       "      <td>111.530261</td>\n",
       "      <td>0.100503</td>\n",
       "      <td>0.117818</td>\n",
       "      <td>111.190188</td>\n",
       "      <td>0.100400</td>\n",
       "      <td>0.117371</td>\n",
       "      <td>1659.278635</td>\n",
       "      <td>9.966717</td>\n",
       "      <td>8.078353</td>\n",
       "      <td>9.966717</td>\n",
       "    </tr>\n",
       "    <tr>\n",
       "      <th>min</th>\n",
       "      <td>61.000000</td>\n",
       "      <td>3.000000</td>\n",
       "      <td>37.317298</td>\n",
       "      <td>-122.453704</td>\n",
       "      <td>3.000000</td>\n",
       "      <td>37.317298</td>\n",
       "      <td>-122.453704</td>\n",
       "      <td>11.000000</td>\n",
       "      <td>1930.000000</td>\n",
       "      <td>1.000000</td>\n",
       "      <td>18.000000</td>\n",
       "    </tr>\n",
       "    <tr>\n",
       "      <th>25%</th>\n",
       "      <td>322.000000</td>\n",
       "      <td>47.000000</td>\n",
       "      <td>37.770407</td>\n",
       "      <td>-122.411901</td>\n",
       "      <td>44.000000</td>\n",
       "      <td>37.770407</td>\n",
       "      <td>-122.411647</td>\n",
       "      <td>3799.000000</td>\n",
       "      <td>1980.000000</td>\n",
       "      <td>5.000000</td>\n",
       "      <td>27.000000</td>\n",
       "    </tr>\n",
       "    <tr>\n",
       "      <th>50%</th>\n",
       "      <td>508.000000</td>\n",
       "      <td>104.000000</td>\n",
       "      <td>37.780760</td>\n",
       "      <td>-122.398279</td>\n",
       "      <td>101.000000</td>\n",
       "      <td>37.781010</td>\n",
       "      <td>-122.397405</td>\n",
       "      <td>4960.000000</td>\n",
       "      <td>1987.000000</td>\n",
       "      <td>8.000000</td>\n",
       "      <td>32.000000</td>\n",
       "    </tr>\n",
       "    <tr>\n",
       "      <th>75%</th>\n",
       "      <td>783.000000</td>\n",
       "      <td>239.000000</td>\n",
       "      <td>37.797320</td>\n",
       "      <td>-122.283093</td>\n",
       "      <td>237.000000</td>\n",
       "      <td>37.797673</td>\n",
       "      <td>-122.285633</td>\n",
       "      <td>5505.000000</td>\n",
       "      <td>1992.000000</td>\n",
       "      <td>13.000000</td>\n",
       "      <td>39.000000</td>\n",
       "    </tr>\n",
       "    <tr>\n",
       "      <th>max</th>\n",
       "      <td>5038.000000</td>\n",
       "      <td>398.000000</td>\n",
       "      <td>37.880222</td>\n",
       "      <td>-121.874119</td>\n",
       "      <td>398.000000</td>\n",
       "      <td>37.880222</td>\n",
       "      <td>-121.874119</td>\n",
       "      <td>6645.000000</td>\n",
       "      <td>2001.000000</td>\n",
       "      <td>84.000000</td>\n",
       "      <td>89.000000</td>\n",
       "    </tr>\n",
       "  </tbody>\n",
       "</table>\n",
       "</div>"
      ],
      "text/plain": [
       "        duration_sec  start_station_id  start_station_latitude  \\\n",
       "count  174000.000000     174000.000000           174000.000000   \n",
       "mean      629.045966        138.950006               37.771183   \n",
       "std       484.450628        111.530261                0.100503   \n",
       "min        61.000000          3.000000               37.317298   \n",
       "25%       322.000000         47.000000               37.770407   \n",
       "50%       508.000000        104.000000               37.780760   \n",
       "75%       783.000000        239.000000               37.797320   \n",
       "max      5038.000000        398.000000               37.880222   \n",
       "\n",
       "       start_station_longitude  end_station_id  end_station_latitude  \\\n",
       "count            174000.000000   174000.000000         174000.000000   \n",
       "mean               -122.351638      136.510184             37.771374   \n",
       "std                   0.117818      111.190188              0.100400   \n",
       "min                -122.453704        3.000000             37.317298   \n",
       "25%                -122.411901       44.000000             37.770407   \n",
       "50%                -122.398279      101.000000             37.781010   \n",
       "75%                -122.283093      237.000000             37.797673   \n",
       "max                -121.874119      398.000000             37.880222   \n",
       "\n",
       "       end_station_longitude        bike_id  member_birth_year  duration_mins  \\\n",
       "count          174000.000000  174000.000000      174000.000000  174000.000000   \n",
       "mean             -122.351211    4481.967810        1984.844874      10.483914   \n",
       "std                 0.117371    1659.278635           9.966717       8.078353   \n",
       "min              -122.453704      11.000000        1930.000000       1.000000   \n",
       "25%              -122.411647    3799.000000        1980.000000       5.000000   \n",
       "50%              -122.397405    4960.000000        1987.000000       8.000000   \n",
       "75%              -122.285633    5505.000000        1992.000000      13.000000   \n",
       "max              -121.874119    6645.000000        2001.000000      84.000000   \n",
       "\n",
       "           rider_age  \n",
       "count  174000.000000  \n",
       "mean       34.155126  \n",
       "std         9.966717  \n",
       "min        18.000000  \n",
       "25%        27.000000  \n",
       "50%        32.000000  \n",
       "75%        39.000000  \n",
       "max        89.000000  "
      ]
     },
     "execution_count": 128,
     "metadata": {},
     "output_type": "execute_result"
    }
   ],
   "source": [
    "ford_bike.describe()"
   ]
  },
  {
   "cell_type": "markdown",
   "metadata": {},
   "source": [
    "For this section, I will be creating clustered bar charts to compare different variables.\n",
    "To avoid repetition, I will be creating a function for this."
   ]
  },
  {
   "cell_type": "code",
   "execution_count": 129,
   "metadata": {},
   "outputs": [],
   "source": [
    "## to create the function\n",
    "## this function accepts two parameters, which are the variables of interest.\n",
    "\n",
    "def clust_bar(cat_var,cat_var_2, palette = None):\n",
    "    \n",
    "    plt.figure(figsize=(10,7))\n",
    "    sb.countplot(data = ford_bike, x = cat_var, hue = cat_var_2, palette = palette)\n",
    "    plt.title (f'''Distribution of {cat_var} by {cat_var_2}'''.title())\n",
    "    \n",
    "\n",
    "#clust_bar('generation','user_type')"
   ]
  },
  {
   "cell_type": "markdown",
   "metadata": {},
   "source": [
    "**Question:** Is there a relationship between riders generation and the duration they ride?"
   ]
  },
  {
   "cell_type": "code",
   "execution_count": 130,
   "metadata": {
    "scrolled": false
   },
   "outputs": [
    {
     "data": {
      "image/png": "[encoded data removed]",
      "text/plain": [
       "<matplotlib.figure.Figure at 0x7f2129aa2cc0>"
      ]
     },
     "metadata": {
      "needs_background": "light"
     },
     "output_type": "display_data"
    }
   ],
   "source": [
    "base_color = sb.color_palette()[2]\n",
    "plt.figure(figsize=(10,7))\n",
    "sb.violinplot(data = ford_bike, x='generation', y= 'duration_sec', color = base_color)\n",
    "plt.title('Violin plot showing duration in secs per generation')\n",
    "plt.yticks(np.arange(0, 6000, step=250));\n",
    "\n"
   ]
  },
  {
   "cell_type": "code",
   "execution_count": 131,
   "metadata": {},
   "outputs": [
    {
     "data": {
      "image/png": "[encoded data removed]",
      "text/plain": [
       "<matplotlib.figure.Figure at 0x7f21291a2668>"
      ]
     },
     "metadata": {
      "needs_background": "light"
     },
     "output_type": "display_data"
    }
   ],
   "source": [
    "base_color = sb.color_palette()[3]\n",
    "plt.figure(figsize=(10,7))\n",
    "sb.boxplot(data = ford_bike, x='generation', y= 'duration_sec', color = base_color)\n",
    "plt.title('Box plot showing duration in secs per generation')\n",
    "plt.yticks(np.arange(0, 6000, step=500));\n"
   ]
  },
  {
   "cell_type": "markdown",
   "metadata": {},
   "source": [
    "**Observation:** The box plot gives more summary details visibly than the violin plot. From the box plot, it is noticed that the Baby Boomers ride for the longest time compared to the other generations.The Post War generation have the least riding duration and this is likely due to age.\n",
    "\n",
    "The violin plot also reveals that most data points are centered between 250 to 500 seconds for all five generations."
   ]
  },
  {
   "cell_type": "code",
   "execution_count": null,
   "metadata": {},
   "outputs": [],
   "source": []
  },
  {
   "cell_type": "markdown",
   "metadata": {},
   "source": [
    "**Question:** What generation tends to a particular user type more?"
   ]
  },
  {
   "cell_type": "markdown",
   "metadata": {},
   "source": [
    "For this question, I group the dataset by user type and generation, convert to a dataframe and plot the charts"
   ]
  },
  {
   "cell_type": "code",
   "execution_count": 132,
   "metadata": {},
   "outputs": [
    {
     "data": {
      "text/plain": [
       "generation    user_type \n",
       "Post War      Customer          10\n",
       "              Subscriber       282\n",
       "Baby Boomers  Customer         656\n",
       "              Subscriber      7998\n",
       "Gen X         Customer        3116\n",
       "              Subscriber     33244\n",
       "Millenials    Customer       11133\n",
       "              Subscriber    106715\n",
       "Gen Z         Customer        1188\n",
       "              Subscriber      9658\n",
       "dtype: int64"
      ]
     },
     "execution_count": 132,
     "metadata": {},
     "output_type": "execute_result"
    }
   ],
   "source": [
    "#this is to group the dataset by generation and user type.\n",
    "\n",
    "gen_user_cnt = ford_bike.groupby(['generation', 'user_type']).size()\n",
    "gen_user_cnt"
   ]
  },
  {
   "cell_type": "code",
   "execution_count": 133,
   "metadata": {},
   "outputs": [
    {
     "data": {
      "text/html": [
       "<div>\n",
       "<style scoped>\n",
       "    .dataframe tbody tr th:only-of-type {\n",
       "        vertical-align: middle;\n",
       "    }\n",
       "\n",
       "    .dataframe tbody tr th {\n",
       "        vertical-align: top;\n",
       "    }\n",
       "\n",
       "    .dataframe thead th {\n",
       "        text-align: right;\n",
       "    }\n",
       "</style>\n",
       "<table border=\"1\" class=\"dataframe\">\n",
       "  <thead>\n",
       "    <tr style=\"text-align: right;\">\n",
       "      <th></th>\n",
       "      <th>generation</th>\n",
       "      <th>user_type</th>\n",
       "      <th>count</th>\n",
       "    </tr>\n",
       "  </thead>\n",
       "  <tbody>\n",
       "    <tr>\n",
       "      <th>0</th>\n",
       "      <td>Post War</td>\n",
       "      <td>Customer</td>\n",
       "      <td>10</td>\n",
       "    </tr>\n",
       "    <tr>\n",
       "      <th>1</th>\n",
       "      <td>Post War</td>\n",
       "      <td>Subscriber</td>\n",
       "      <td>282</td>\n",
       "    </tr>\n",
       "    <tr>\n",
       "      <th>2</th>\n",
       "      <td>Baby Boomers</td>\n",
       "      <td>Customer</td>\n",
       "      <td>656</td>\n",
       "    </tr>\n",
       "    <tr>\n",
       "      <th>3</th>\n",
       "      <td>Baby Boomers</td>\n",
       "      <td>Subscriber</td>\n",
       "      <td>7998</td>\n",
       "    </tr>\n",
       "    <tr>\n",
       "      <th>4</th>\n",
       "      <td>Gen X</td>\n",
       "      <td>Customer</td>\n",
       "      <td>3116</td>\n",
       "    </tr>\n",
       "    <tr>\n",
       "      <th>5</th>\n",
       "      <td>Gen X</td>\n",
       "      <td>Subscriber</td>\n",
       "      <td>33244</td>\n",
       "    </tr>\n",
       "    <tr>\n",
       "      <th>6</th>\n",
       "      <td>Millenials</td>\n",
       "      <td>Customer</td>\n",
       "      <td>11133</td>\n",
       "    </tr>\n",
       "    <tr>\n",
       "      <th>7</th>\n",
       "      <td>Millenials</td>\n",
       "      <td>Subscriber</td>\n",
       "      <td>106715</td>\n",
       "    </tr>\n",
       "    <tr>\n",
       "      <th>8</th>\n",
       "      <td>Gen Z</td>\n",
       "      <td>Customer</td>\n",
       "      <td>1188</td>\n",
       "    </tr>\n",
       "    <tr>\n",
       "      <th>9</th>\n",
       "      <td>Gen Z</td>\n",
       "      <td>Subscriber</td>\n",
       "      <td>9658</td>\n",
       "    </tr>\n",
       "  </tbody>\n",
       "</table>\n",
       "</div>"
      ],
      "text/plain": [
       "     generation   user_type   count\n",
       "0      Post War    Customer      10\n",
       "1      Post War  Subscriber     282\n",
       "2  Baby Boomers    Customer     656\n",
       "3  Baby Boomers  Subscriber    7998\n",
       "4         Gen X    Customer    3116\n",
       "5         Gen X  Subscriber   33244\n",
       "6    Millenials    Customer   11133\n",
       "7    Millenials  Subscriber  106715\n",
       "8         Gen Z    Customer    1188\n",
       "9         Gen Z  Subscriber    9658"
      ]
     },
     "execution_count": 133,
     "metadata": {},
     "output_type": "execute_result"
    }
   ],
   "source": [
    "# Use Series.reset_index() to convert a series into a dataframe object\n",
    "gen_user_cnt = gen_user_cnt.reset_index(name = 'count')\n",
    "gen_user_cnt"
   ]
  },
  {
   "cell_type": "code",
   "execution_count": 134,
   "metadata": {},
   "outputs": [
    {
     "data": {
      "text/html": [
       "<div>\n",
       "<style scoped>\n",
       "    .dataframe tbody tr th:only-of-type {\n",
       "        vertical-align: middle;\n",
       "    }\n",
       "\n",
       "    .dataframe tbody tr th {\n",
       "        vertical-align: top;\n",
       "    }\n",
       "\n",
       "    .dataframe thead th {\n",
       "        text-align: right;\n",
       "    }\n",
       "</style>\n",
       "<table border=\"1\" class=\"dataframe\">\n",
       "  <thead>\n",
       "    <tr style=\"text-align: right;\">\n",
       "      <th>user_type</th>\n",
       "      <th>Customer</th>\n",
       "      <th>Subscriber</th>\n",
       "    </tr>\n",
       "    <tr>\n",
       "      <th>generation</th>\n",
       "      <th></th>\n",
       "      <th></th>\n",
       "    </tr>\n",
       "  </thead>\n",
       "  <tbody>\n",
       "    <tr>\n",
       "      <th>Post War</th>\n",
       "      <td>10</td>\n",
       "      <td>282</td>\n",
       "    </tr>\n",
       "    <tr>\n",
       "      <th>Baby Boomers</th>\n",
       "      <td>656</td>\n",
       "      <td>7998</td>\n",
       "    </tr>\n",
       "    <tr>\n",
       "      <th>Gen X</th>\n",
       "      <td>3116</td>\n",
       "      <td>33244</td>\n",
       "    </tr>\n",
       "    <tr>\n",
       "      <th>Millenials</th>\n",
       "      <td>11133</td>\n",
       "      <td>106715</td>\n",
       "    </tr>\n",
       "    <tr>\n",
       "      <th>Gen Z</th>\n",
       "      <td>1188</td>\n",
       "      <td>9658</td>\n",
       "    </tr>\n",
       "  </tbody>\n",
       "</table>\n",
       "</div>"
      ],
      "text/plain": [
       "user_type     Customer  Subscriber\n",
       "generation                        \n",
       "Post War            10         282\n",
       "Baby Boomers       656        7998\n",
       "Gen X             3116       33244\n",
       "Millenials       11133      106715\n",
       "Gen Z             1188        9658"
      ]
     },
     "execution_count": 134,
     "metadata": {},
     "output_type": "execute_result"
    }
   ],
   "source": [
    "# Use DataFrame.pivot() to rearrange the data, to have vehicle class on rows\n",
    "\n",
    "gen_user_cnt = gen_user_cnt.pivot(index='generation', columns = 'user_type', values = 'count')\n",
    "gen_user_cnt"
   ]
  },
  {
   "cell_type": "code",
   "execution_count": 135,
   "metadata": {},
   "outputs": [
    {
     "data": {
      "image/png": "[encoded data removed]",
      "text/plain": [
       "<matplotlib.figure.Figure at 0x7f2120520358>"
      ]
     },
     "metadata": {
      "needs_background": "light"
     },
     "output_type": "display_data"
    }
   ],
   "source": [
    "##to create the heatmap\n",
    "\n",
    "plt.figure(figsize=(10,7))\n",
    "plt.title('Heat map showing distribution across user types for the different generations')\n",
    "sb.heatmap(gen_user_cnt, annot= True, fmt = 'd')\n",
    "plt.yticks(rotation = 0);\n"
   ]
  },
  {
   "cell_type": "code",
   "execution_count": 136,
   "metadata": {},
   "outputs": [
    {
     "data": {
      "image/png": "[encoded data removed]",
      "text/plain": [
       "<matplotlib.figure.Figure at 0x7f2121044748>"
      ]
     },
     "metadata": {
      "needs_background": "light"
     },
     "output_type": "display_data"
    }
   ],
   "source": [
    "##to create the clustered bar chart for this, I make use of the function created earlier.\n",
    "\n",
    "\n",
    "clust_bar('generation','user_type')\n",
    "\n",
    "\n",
    "\n",
    "#plt.figure(figsize=(10,7))\n",
    "#plt.title('Distribution of user types across the different generations')\n",
    "\n",
    "#sb.countplot(data = ford_bike, x = 'generation', hue = 'user_type');\n"
   ]
  },
  {
   "cell_type": "markdown",
   "metadata": {},
   "source": [
    "**Observation:** The heat map and clustered bar chart reveals that millenials have the highest number of subscribers across the generations. They also have the highest number of customers.\n",
    "For the five generations, there are also more subscribers than customers. It is safe to say the riders tend to subscribe to the service than choosing to just be \"regular\" customers."
   ]
  },
  {
   "cell_type": "markdown",
   "metadata": {},
   "source": [
    "In the next step, I will be plotting bike share option across genders"
   ]
  },
  {
   "cell_type": "code",
   "execution_count": 137,
   "metadata": {},
   "outputs": [
    {
     "data": {
      "image/png": "[encoded data removed]",
      "text/plain": [
       "<matplotlib.figure.Figure at 0x7f212102c320>"
      ]
     },
     "metadata": {
      "needs_background": "light"
     },
     "output_type": "display_data"
    }
   ],
   "source": [
    "clust_bar('member_gender','bike_share_for_all_trip')\n",
    "\n",
    "#plt.figure(figsize=(10,7))\n",
    "#plt.title('Distribution of bike share option choice across genders')\n",
    "#sb.countplot(data = ford_bike, x = 'member_gender', hue = 'bike_share_for_all_trip');\n"
   ]
  },
  {
   "cell_type": "markdown",
   "metadata": {},
   "source": [
    "**Observation:** There is no relationship between gender and their choice of doing a bike share. All genders will rather not do a bike share for all trips."
   ]
  },
  {
   "cell_type": "markdown",
   "metadata": {},
   "source": [
    "For the next step, I will be plotting a distribution of genders across the different generations."
   ]
  },
  {
   "cell_type": "code",
   "execution_count": 138,
   "metadata": {
    "scrolled": true
   },
   "outputs": [
    {
     "data": {
      "text/html": [
       "<div>\n",
       "<style scoped>\n",
       "    .dataframe tbody tr th:only-of-type {\n",
       "        vertical-align: middle;\n",
       "    }\n",
       "\n",
       "    .dataframe tbody tr th {\n",
       "        vertical-align: top;\n",
       "    }\n",
       "\n",
       "    .dataframe thead th {\n",
       "        text-align: right;\n",
       "    }\n",
       "</style>\n",
       "<table border=\"1\" class=\"dataframe\">\n",
       "  <thead>\n",
       "    <tr style=\"text-align: right;\">\n",
       "      <th>member_gender</th>\n",
       "      <th>Female</th>\n",
       "      <th>Male</th>\n",
       "      <th>Other</th>\n",
       "    </tr>\n",
       "    <tr>\n",
       "      <th>generation</th>\n",
       "      <th></th>\n",
       "      <th></th>\n",
       "      <th></th>\n",
       "    </tr>\n",
       "  </thead>\n",
       "  <tbody>\n",
       "    <tr>\n",
       "      <th>Post War</th>\n",
       "      <td>35</td>\n",
       "      <td>231</td>\n",
       "      <td>26</td>\n",
       "    </tr>\n",
       "    <tr>\n",
       "      <th>Baby Boomers</th>\n",
       "      <td>1636</td>\n",
       "      <td>6817</td>\n",
       "      <td>201</td>\n",
       "    </tr>\n",
       "    <tr>\n",
       "      <th>Gen X</th>\n",
       "      <td>7030</td>\n",
       "      <td>28407</td>\n",
       "      <td>923</td>\n",
       "    </tr>\n",
       "    <tr>\n",
       "      <th>Millenials</th>\n",
       "      <td>29481</td>\n",
       "      <td>86066</td>\n",
       "      <td>2301</td>\n",
       "    </tr>\n",
       "    <tr>\n",
       "      <th>Gen Z</th>\n",
       "      <td>2357</td>\n",
       "      <td>8344</td>\n",
       "      <td>145</td>\n",
       "    </tr>\n",
       "  </tbody>\n",
       "</table>\n",
       "</div>"
      ],
      "text/plain": [
       "member_gender  Female   Male  Other\n",
       "generation                         \n",
       "Post War           35    231     26\n",
       "Baby Boomers     1636   6817    201\n",
       "Gen X            7030  28407    923\n",
       "Millenials      29481  86066   2301\n",
       "Gen Z            2357   8344    145"
      ]
     },
     "execution_count": 138,
     "metadata": {},
     "output_type": "execute_result"
    }
   ],
   "source": [
    "gen_member_cnt = ford_bike.groupby(['generation', 'member_gender']).size()\n",
    "gen_member_cnt = gen_member_cnt.reset_index(name = 'count')\n",
    "gen_member_cnt = gen_member_cnt.pivot(index='generation', columns = 'member_gender', values = 'count')\n",
    "gen_member_cnt"
   ]
  },
  {
   "cell_type": "code",
   "execution_count": 139,
   "metadata": {},
   "outputs": [
    {
     "data": {
      "image/png": "[encoded data removed]",
      "text/plain": [
       "<matplotlib.figure.Figure at 0x7f2120f960f0>"
      ]
     },
     "metadata": {
      "needs_background": "light"
     },
     "output_type": "display_data"
    }
   ],
   "source": [
    "clust_bar('generation','member_gender')\n",
    "\n",
    "\n",
    "#plt.figure(figsize=(10,7))\n",
    "#plt.title('Number of riders for each gender across the different generations')\n",
    "\n",
    "#sb.countplot(data = ford_bike, x = 'generation', hue = 'member_gender');\n"
   ]
  },
  {
   "cell_type": "markdown",
   "metadata": {},
   "source": [
    "**Observation:** The chart above reveals that the male gender has the most number of riders across the five generations. The gender with the least riders is Others."
   ]
  },
  {
   "cell_type": "markdown",
   "metadata": {},
   "source": [
    "The next step shows number of riders per week day across the different user types"
   ]
  },
  {
   "cell_type": "code",
   "execution_count": 140,
   "metadata": {
    "scrolled": false
   },
   "outputs": [
    {
     "data": {
      "image/png": "[encoded data removed]",
      "text/plain": [
       "<matplotlib.figure.Figure at 0x7f2120f032e8>"
      ]
     },
     "metadata": {
      "needs_background": "light"
     },
     "output_type": "display_data"
    }
   ],
   "source": [
    "clust_bar('start_day','user_type')\n",
    "\n",
    "\n",
    "#plt.figure(figsize=(10,7))\n",
    "#plt.title('Number of riders per week day across the different user types')\n",
    "\n",
    "#sb.countplot(data = ford_bike, x = 'start_day', hue = 'user_type')\n",
    "#plt.ylabel('number of riders');"
   ]
  },
  {
   "cell_type": "markdown",
   "metadata": {},
   "source": [
    "**Observation:** For both user types, Thursday is the busiest day of the week"
   ]
  },
  {
   "cell_type": "markdown",
   "metadata": {},
   "source": [
    "### Talk about some of the relationships you observed in this part of the investigation. How did the feature(s) of interest vary with other features in the dataset?\n",
    "\n",
    "> I observed that the generation and ride duration have a slight relationship. Those with older ages had less ride duration compared to the other ages. However, I had assumed that Millenials and Gen Z will be the category with higher durations (maybe more strength due to age/ more fun activities as per, they are \"youths\") but that was not the case.\n",
    "\n",
    "### Did you observe any interesting relationships between the other features (not the main feature(s) of interest)?\n",
    "\n",
    "> My initial assumption was that on weekend days, there will be more riders who were customers than subscribers. Maybe because these people would use only on weekends and would not want to subscribe instead. However, even on weekends, there are more subscribers using the service."
   ]
  },
  {
   "cell_type": "code",
   "execution_count": null,
   "metadata": {},
   "outputs": [],
   "source": []
  },
  {
   "cell_type": "markdown",
   "metadata": {},
   "source": [
    "## Multivariate Exploration\n",
    "\n"
   ]
  },
  {
   "cell_type": "markdown",
   "metadata": {},
   "source": [
    "**Question:** Investigate user_type, generation and trip duration in minutes (duration_min)"
   ]
  },
  {
   "cell_type": "code",
   "execution_count": 141,
   "metadata": {},
   "outputs": [
    {
     "data": {
      "image/png": "[encoded data removed]",
      "text/plain": [
       "<matplotlib.figure.Figure at 0x7f2120ecdbe0>"
      ]
     },
     "metadata": {
      "needs_background": "light"
     },
     "output_type": "display_data"
    }
   ],
   "source": [
    "plt.figure(figsize=(10,7))\n",
    "\n",
    "ax = sb.stripplot(data = ford_bike, x = 'generation', y = 'duration_mins', hue = 'user_type', size = 2, jitter = 0.3, dodge = True)\n",
    "plt.title('ride duration in minutes per generation and user_type')\n",
    "ax.legend(loc = 0, ncol = 3, framealpha = 1, title = 'user_type');"
   ]
  },
  {
   "cell_type": "markdown",
   "metadata": {},
   "source": [
    "**Observation:** The difference between duration minutes of the generations asides Post War is not a lot. It is similar. However, the subscribers among Post War riders have a higher duration time."
   ]
  },
  {
   "cell_type": "markdown",
   "metadata": {},
   "source": [
    "**Question:** Is there a difference in the hourly usage for the different user types?"
   ]
  },
  {
   "cell_type": "code",
   "execution_count": 142,
   "metadata": {},
   "outputs": [
    {
     "data": {
      "image/png": "[encoded data removed]",
      "text/plain": [
       "<matplotlib.figure.Figure at 0x7f2121039d68>"
      ]
     },
     "metadata": {
      "needs_background": "light"
     },
     "output_type": "display_data"
    }
   ],
   "source": [
    "plt.figure(figsize=(14,9))\n",
    "\n",
    "plt.subplot(2, 1, 1)\n",
    "customer = ford_bike.query('user_type == \"Customer\"')\n",
    "cust_counts = customer.groupby(['start_day', 'start_hour']).size()\n",
    "cust_counts = cust_counts.reset_index(name='count')\n",
    "cust_counts = cust_counts.pivot(index='start_day', columns='start_hour', values='count')\n",
    "sb.heatmap(cust_counts, cmap=\"Reds\");\n",
    "plt.title('Customer', loc='right', fontsize=14);\n",
    "plt.xlabel('Start Hour', fontsize=14);\n",
    "plt.ylabel('Week Day', fontsize=14);\n",
    "\n",
    "plt.subplot(2, 1, 2)\n",
    "subscriber = ford_bike.query('user_type == \"Subscriber\"')\n",
    "sub_counts = subscriber.groupby(['start_day', 'start_hour']).size()\n",
    "sub_counts = sub_counts.reset_index(name='count')\n",
    "sub_counts = sub_counts.pivot(index='start_day', columns='start_hour', values='count')\n",
    "sb.heatmap(sub_counts, cmap=\"Reds\");\n",
    "plt.title('Subscriber', loc='right', fontsize=14);\n",
    "plt.xlabel('Start Hour', fontsize=14);\n",
    "plt.ylabel('Week Day', fontsize=14);\n",
    "\n",
    "plt.subplots_adjust(top=0.9)\n",
    "plt.suptitle('Hourly usage during a week per customer type', fontsize=16);"
   ]
  },
  {
   "cell_type": "markdown",
   "metadata": {},
   "source": [
    "**Observation:** For customers, the busier time is 5pm on Thursdays. However, for subscribers, the busy days and times are 8am and 5pm on weekdays, with Thursdays being the busiest."
   ]
  },
  {
   "cell_type": "code",
   "execution_count": null,
   "metadata": {},
   "outputs": [],
   "source": []
  },
  {
   "cell_type": "markdown",
   "metadata": {},
   "source": [
    "**Question:** Trip Duration for The week Days across User Types"
   ]
  },
  {
   "cell_type": "code",
   "execution_count": 143,
   "metadata": {},
   "outputs": [
    {
     "data": {
      "image/png": "[encoded data removed]",
      "text/plain": [
       "<matplotlib.figure.Figure at 0x7f21224c3c50>"
      ]
     },
     "metadata": {
      "needs_background": "light"
     },
     "output_type": "display_data"
    }
   ],
   "source": [
    "plt.figure(figsize=(10,7))\n",
    "\n",
    "ax = sb.barplot(data = ford_bike, x = 'start_day', y = 'duration_mins', hue = 'user_type')\n",
    "ax.legend(loc = 0, ncol = 3, framealpha = 1, title = 'user_type')\n",
    "plt.title('Trip Duration on Different Week Days for the User Types');"
   ]
  },
  {
   "cell_type": "markdown",
   "metadata": {},
   "source": [
    "**Observation:** The plot above shows that there are higher ride durations on weekend days (Saturday and Sunday) compared to the other days of the week, with customers having higher ride times than subscribers"
   ]
  },
  {
   "cell_type": "markdown",
   "metadata": {},
   "source": [
    "### Talk about some of the relationships you observed in this part of the investigation. Were there features that strengthened each other in terms of looking at your feature(s) of interest?\n",
    "\n",
    "> I realised there are more relationships between the day of the week and the ride duration, compared to what was seen in earlier visualisations. There were also more customers on weekends than subscribers\n",
    "\n"
   ]
  },
  {
   "cell_type": "markdown",
   "metadata": {},
   "source": [
    "## Conclusions\n",
    ">You can write a summary of the main findings and reflect on the steps taken during the data exploration.\n",
    "* There are more millenials who use thr bike sharing system compared to the other generations\n",
    "+ There are also more customers using this service on weekends, compared to subscribers. I assume the customers use it for fun/recreation while subscribers use it for work/to transport to their offices or work places\n",
    "+ Between 10am and 5pm, there are little or no rides by customers on every day of the week\n",
    "+ There are also more subscribers of this service than customers\n",
    "+ The busiest day of the week is Thursday for both customers and subscribers, perhaps, something special happens on Thursdays...\n",
    "+ Subscribers use the bike sharing services mainly at 8am and 5pm, which is likely because this falls around work opening and closing hours. "
   ]
  }
 ],
 "metadata": {
  "kernelspec": {
   "display_name": "Python 3",
   "language": "python",
   "name": "python3"
  },
  "language_info": {
   "codemirror_mode": {
    "name": "ipython",
    "version": 3
   },
   "file_extension": ".py",
   "mimetype": "text/x-python",
   "name": "python",
   "nbconvert_exporter": "python",
   "pygments_lexer": "ipython3",
   "version": "3.6.3"
  }
 },
 "nbformat": 4,
 "nbformat_minor": 2
}
